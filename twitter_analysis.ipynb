{
 "cells": [
  {
   "cell_type": "markdown",
   "metadata": {},
   "source": [
    "## Twitter Analysis\n",
    "\n",
    "This Jupyter notebook uses the custom Python package we created to analyse our selected articles for engagement on Twitter. To do so, we have to start off by importing the Twitter utilities from that package, as well as some more stuff we will need throughout the process."
   ]
  },
  {
   "cell_type": "code",
   "execution_count": null,
   "metadata": {},
   "outputs": [],
   "source": [
    "from NewsTracker.Twitter import *\n",
    "from NewsTracker.Utils import DelayedPrinter\n",
    "import os"
   ]
  },
  {
   "cell_type": "markdown",
   "metadata": {},
   "source": [
    "Next, we have to load our API keys for Twitter. These are stored, along all other API keys in a local file (\".env\"), which is not part of this repository, as the keys are private. Please refer to the \"NewsTracker/Configuration.py\" file to see how you can create your own config file.\n",
    "\n",
    "Additionally, we will obtain an instance of the \"TwitterAnalyzer\", the core class that allows us optain and alalyse tweets for a given URL.\n",
    "\n",
    "Finally, we create a \"DelayedPrinter\", a helpful little class that allows us to manage the way we print messages to the console more elegantly. It is only a conveniance tool though."
   ]
  },
  {
   "cell_type": "code",
   "execution_count": 3,
   "metadata": {},
   "outputs": [],
   "source": [
    "# load config\n",
    "config = Configuration.load_from(\".env\")\n",
    "\n",
    "# create twitter analyzer object\n",
    "twitter = TwitterAnalyzer(config)\n",
    "\n",
    "# create custom printer object for more pretty printing in console\n",
    "printer = DelayedPrinter()"
   ]
  },
  {
   "cell_type": "markdown",
   "metadata": {},
   "source": [
    "With that out of the way, we need to find a place to store our analysis results. For this purpose, we have two folders: The \"final-results\" folder will sort the results by topics and articles, while the \"merged-results\" are only sorted by topic. Additionally, we create two convenient functions, that allow us to create valid folder paths within these two folders, which we will use later to store files."
   ]
  },
  {
   "cell_type": "code",
   "execution_count": 4,
   "metadata": {},
   "outputs": [],
   "source": [
    "# defined folder names for results\n",
    "result_dir = \"./final-results/\"\n",
    "merged_dir = \"./merged-results/\"\n",
    "\n",
    "# generate a foldername in result folder\n",
    "def result_folder(foldername: str) -> str: \n",
    "    dir = os.path.join(result_dir, foldername)\n",
    "    return dir if dir[-1] == \"/\" else dir + \"/\"\n",
    "\n",
    "# generate a foldername in merged result folder\n",
    "def merged_folder(foldername: str) -> str: \n",
    "    dir = os.path.join(merged_dir, foldername)\n",
    "    return dir if dir[-1] == \"/\" else dir + \"/\""
   ]
  },
  {
   "cell_type": "markdown",
   "metadata": {},
   "source": [
    "Next, we need to provide a list of all topics, and the articles linked to them. We did so using a dictionary, which we can iterate through. This way, we also get the names of the topics, as well as the news outlets for sorting the results."
   ]
  },
  {
   "cell_type": "code",
   "execution_count": 5,
   "metadata": {},
   "outputs": [],
   "source": [
    "# dictionary for all topics and their respective articles\n",
    "topics = {\n",
    "    \"elon-musk-twitter\": {\n",
    "        \"bbc\":                 \"https://www.bbc.com/news/business-64010202\",\n",
    "        \"euronews\":            \"https://www.euronews.com/next/2022/12/16/twitter-suspends-the-accounts-of-several-journalists-who-wrote-about-elon-musk\",\n",
    "        \"cnbc\":                \"https://www.cnbc.com/2022/10/27/elon-musk-now-in-charge-of-twitter-ceo-and-cfo-have-left-sources-say.html\",\n",
    "        \"wall-street-journal\": \"https://www.wsj.com/livecoverage/twitter-elon-musk-latest-news\",\n",
    "        \"financial-times\":     \"https://www.ft.com/content/bb047c8f-f97d-4e3a-8bbb-50d0494c8c48\",\n",
    "        \"guardian\":            \"https://www.theguardian.com/technology/2022/dec/17/elon-musk-reinstates-twitter-accounts-of-suspended-journalists\"\n",
    "    }, \"worldcup\": {\n",
    "        \"bbc\":        \"https://www.bbc.com/sport/football/63932622\",\n",
    "        \"euronews-1\": \"https://www.euronews.com/2022/11/23/the-qatar-world-cup-kicks-off-with-an-extravagant-ceremony\",\n",
    "        \"euronews-2\": \"https://www.euronews.com/2022/12/18/champions-lionel-messi-leads-argentina-to-electrifying-world-cup-victory-over-france\",\n",
    "        \"cnbc\":       \"https://www.cnbc.com/2022/12/15/fubotv-hit-with-cyber-attack-during-world-cup-semifinal-match.html\",\n",
    "        \"sky-spots\":  \"https://www.skysports.com/football/croatia-vs-morocco/report/463027\",\n",
    "        \"fox-sports\": \"https://www.foxsports.com/stories/soccer/world-cup-2022-5-most-memorable-upsets-of-the-tourney\",\n",
    "        \"guardian\":   \"https://www.theguardian.com/football/live/2022/dec/09/netherlands-v-argentina-world-cup-2022-quarter-final-live-score-updates\"\n",
    "    }, \"chatgpt\": {\n",
    "        \"guardian\":          \"https://www.theguardian.com/commentisfree/2022/dec/11/chatgpt-is-a-marvel-but-its-ability-to-lie-convincingly-is-its-greatest-danger-to-humankind\",\n",
    "        \"bbc\":               \"https://www.bbc.com/news/technology-63861322\",\n",
    "        \"euronews\":          \"https://www.euronews.com/next/2022/12/14/chatgpt-why-the-human-like-ai-chatbot-suddenly-got-everyone-talking\",\n",
    "        \"cnbc\":              \"https://www.cnbc.com/2022/12/13/chatgpt-is-a-new-ai-chatbot-that-can-answer-questions-and-write-essays.html\",\n",
    "        \"science-focus\":     \"https://www.sciencefocus.com/future-technology/gpt-3/\",\n",
    "        \"bleeping-computer\": \"https://www.bleepingcomputer.com/news/technology/openais-new-chatgpt-bot-10-dangerous-things-its-capable-of/\",\n",
    "    }, \"bts-army\": {\n",
    "        \"bbc\":                  \"https://www.bbc.com/news/world-asia-63944860\",\n",
    "        \"euronews\":             \"https://www.euronews.com/culture/2022/10/10/bts-south-korean-military-leader-says-he-wants-k-pop-band-to-do-military-service\",\n",
    "        \"cnbc\":                 \"https://www.cnbc.com/2022/10/17/bts-stars-to-serve-military-duty-in-south-korea.html\",\n",
    "        \"all-kpop\":             \"https://www.allkpop.com/article/2022/12/bts-jin-to-receive-extra-security-for-military-enlistment\",\n",
    "        \"korea-joongang-daily\": \"https://koreajoongangdaily.joins.com/2022/12/13/entertainment/kpop/Korea-Jin-BTS/20221213094055711.html\",\n",
    "        \"guardian\":             \"https://www.theguardian.com/music/2022/dec/15/bts-military-service-kpop-jin-kim-south-korea\",\n",
    "    }, \"iran-women-rights\": {\n",
    "        \"bbc\":             \"https://www.bbc.com/news/world-middle-east-62930425\",\n",
    "        \"euronews\":        \"https://www.euronews.com/2022/12/04/iran-disbands-morality-police-amid-two-and-half-months-of-nationwide-protests\",\n",
    "        \"cnbc\":            \"https://www.cnbc.com/2022/12/05/iran-denies-abolition-of-morality-police-as-three-day-strike-begins.html\",\n",
    "        \"middle-east-eye\": \"https://www.middleeasteye.net/news/iran-mahsa-amini-protests-first-execution-carried-out\",\n",
    "        \"arab-news\":       \"https://www.arabnews.com/node/2209306\",\n",
    "        \"guardian\":        \"https://amp.theguardian.com/global-development/2022/dec/08/iranian-forces-shooting-at-faces-and-genitals-of-female-protesters-medics-say\"\n",
    "    }\n",
    "}"
   ]
  },
  {
   "cell_type": "markdown",
   "metadata": {},
   "source": [
    "Now, we construct a function that iterates over all topics and articles, creating a folder for each topic and article respectively. In these folders, it will then safe the results of the analysis produced by the \"TwitterAnalyzer\". This includes a serialization of the tweets itself."
   ]
  },
  {
   "cell_type": "code",
   "execution_count": 6,
   "metadata": {},
   "outputs": [],
   "source": [
    "# function to analyze the above articles\n",
    "def analyze_topics():\n",
    "\n",
    "    # iterate through all topics\n",
    "    for topic, articles in topics.items():\n",
    "\n",
    "        printer.delay(100 * \"-\")\n",
    "        printer.delay(f\"\\nStart processing topic {topic}...\")\n",
    "\n",
    "        # iterate through all articles\n",
    "        for index, (source, url) in enumerate(articles.items()):\n",
    "\n",
    "            printer.delay(f\"\\nProcessing article {index + 1}/{len(articles)} now...\\n\")\n",
    "\n",
    "            # analyze article and write result to respective folder\n",
    "            dir = result_folder(f\"{topic}/{source}\")\n",
    "            if not os.path.exists(dir):\n",
    "                printer.print()\n",
    "                twitter.analyze_url(url, dir)\n",
    "            else:\n",
    "                printer.pop()\n",
    "\n",
    "        if printer.is_empty:\n",
    "            print(f\"\\nFinished processing topic {topic}.\\n\")\n",
    "            print(100 * \"-\")\n",
    "            # exit()\n",
    "        else:\n",
    "            printer.clear()"
   ]
  },
  {
   "cell_type": "markdown",
   "metadata": {},
   "source": [
    "However, we don't only want to look into the tweets sorted by articles, but also the results sorted by topics only, merging the tweets for seperate articles of the same topic. To do that, we can merge the results written to folders in the function above. The following function does that, creating a list of merged tweets, and analyzing them, writing the results in a new folder."
   ]
  },
  {
   "cell_type": "code",
   "execution_count": 7,
   "metadata": {},
   "outputs": [],
   "source": [
    "def merge_topics():\n",
    "    \n",
    "    # iterate through all topics\n",
    "    for topic, articles in topics.items():\n",
    "\n",
    "        parents = []\n",
    "        tweets = []\n",
    "\n",
    "        # iterate through att articles, and find the corresponding folders to read all tweets from them\n",
    "        # merge all tweets from all articles in one list\n",
    "        for source, url in articles.items():\n",
    "            tweets_file = os.path.join(result_folder(f\"{topic}/{source}\"), \"tweets.json\")\n",
    "            if os.path.exists(tweets_file):\n",
    "                parent_tweets, all_tweets = twitter.load_tweets_from_file(tweets_file)\n",
    "                parents += parent_tweets\n",
    "                tweets += all_tweets\n",
    "\n",
    "        # create merged results folder\n",
    "        merged_folder_dir = merged_folder(f\"{topic}\")\n",
    "        os.makedirs(merged_folder_dir, exist_ok=True)\n",
    "        \n",
    "        # analyze the merged tweets\n",
    "        twitter.store_tweets(parents, os.path.join(merged_folder_dir, \"tweets.json\"))\n",
    "        twitter.analyze(parents, tweets, merged_folder_dir)"
   ]
  },
  {
   "cell_type": "markdown",
   "metadata": {},
   "source": [
    "Finally, we execute the both functions abaove."
   ]
  },
  {
   "cell_type": "code",
   "execution_count": 8,
   "metadata": {},
   "outputs": [
    {
     "name": "stdout",
     "output_type": "stream",
     "text": [
      "----------------------------------------------------------------------------------------------------\n",
      "\n",
      "Start processing topic elon-musk-twitter...\n",
      "\n",
      "Processing article 1/6 now...\n",
      "\n",
      "Searching tweets using search term 'url:https://www.bbc.com/news/business-64010202'... "
     ]
    },
    {
     "name": "stderr",
     "output_type": "stream",
     "text": [
      "c:\\Users\\maxim\\Documents\\Studium\\Master\\Year 2\\Period 2\\the-social-hack\\NewsTracker\\Twitter.py:84: RuntimeWarning: coroutine 'Twint.main' was never awaited\n",
      "  break\n",
      "RuntimeWarning: Enable tracemalloc to get the object allocation traceback\n"
     ]
    },
    {
     "name": "stdout",
     "output_type": "stream",
     "text": [
      "Done.\n",
      "\n",
      "Could not find any tweets.\n",
      "\n",
      "\n",
      "Processing article 2/6 now...\n",
      "\n",
      "Searching tweets using search term 'url:https://www.euronews.com/next/2022/12/16/twitter-suspends-the-accounts-of-several-journalists-who-wrote-about-elon-musk'... "
     ]
    },
    {
     "name": "stderr",
     "output_type": "stream",
     "text": [
      "c:\\Users\\maxim\\Documents\\Studium\\Master\\Year 2\\Period 2\\the-social-hack\\NewsTracker\\Twitter.py:84: RuntimeWarning: coroutine 'Twint.main' was never awaited\n",
      "  break\n",
      "RuntimeWarning: Enable tracemalloc to get the object allocation traceback\n"
     ]
    },
    {
     "name": "stdout",
     "output_type": "stream",
     "text": [
      "Done.\n",
      "\n",
      "Could not find any tweets.\n",
      "\n",
      "\n",
      "Processing article 3/6 now...\n",
      "\n",
      "Searching tweets using search term 'url:https://www.cnbc.com/2022/10/27/elon-musk-now-in-charge-of-twitter-ceo-and-cfo-have-left-sources-say.html'... "
     ]
    },
    {
     "name": "stderr",
     "output_type": "stream",
     "text": [
      "c:\\Users\\maxim\\Documents\\Studium\\Master\\Year 2\\Period 2\\the-social-hack\\NewsTracker\\Twitter.py:84: RuntimeWarning: coroutine 'Twint.main' was never awaited\n",
      "  break\n",
      "RuntimeWarning: Enable tracemalloc to get the object allocation traceback\n"
     ]
    },
    {
     "name": "stdout",
     "output_type": "stream",
     "text": [
      "Done.\n",
      "\n",
      "Could not find any tweets.\n",
      "\n",
      "\n",
      "Processing article 4/6 now...\n",
      "\n",
      "Searching tweets using search term 'url:https://www.wsj.com/livecoverage/twitter-elon-musk-latest-news'... "
     ]
    },
    {
     "name": "stderr",
     "output_type": "stream",
     "text": [
      "c:\\Users\\maxim\\Documents\\Studium\\Master\\Year 2\\Period 2\\the-social-hack\\NewsTracker\\Twitter.py:84: RuntimeWarning: coroutine 'Twint.main' was never awaited\n",
      "  break\n",
      "RuntimeWarning: Enable tracemalloc to get the object allocation traceback\n"
     ]
    },
    {
     "name": "stdout",
     "output_type": "stream",
     "text": [
      "Done.\n",
      "\n",
      "Could not find any tweets.\n",
      "\n",
      "\n",
      "Processing article 5/6 now...\n",
      "\n",
      "Searching tweets using search term 'url:https://www.ft.com/content/bb047c8f-f97d-4e3a-8bbb-50d0494c8c48'... "
     ]
    },
    {
     "name": "stderr",
     "output_type": "stream",
     "text": [
      "c:\\Users\\maxim\\Documents\\Studium\\Master\\Year 2\\Period 2\\the-social-hack\\NewsTracker\\Twitter.py:84: RuntimeWarning: coroutine 'Twint.main' was never awaited\n",
      "  break\n",
      "RuntimeWarning: Enable tracemalloc to get the object allocation traceback\n"
     ]
    },
    {
     "name": "stdout",
     "output_type": "stream",
     "text": [
      "Done.\n",
      "\n",
      "Could not find any tweets.\n",
      "\n",
      "\n",
      "Processing article 6/6 now...\n",
      "\n",
      "Searching tweets using search term 'url:https://www.theguardian.com/technology/2022/dec/17/elon-musk-reinstates-twitter-accounts-of-suspended-journalists'... "
     ]
    },
    {
     "name": "stderr",
     "output_type": "stream",
     "text": [
      "c:\\Users\\maxim\\Documents\\Studium\\Master\\Year 2\\Period 2\\the-social-hack\\NewsTracker\\Twitter.py:84: RuntimeWarning: coroutine 'Twint.main' was never awaited\n",
      "  break\n",
      "RuntimeWarning: Enable tracemalloc to get the object allocation traceback\n"
     ]
    },
    {
     "name": "stdout",
     "output_type": "stream",
     "text": [
      "Done.\n",
      "\n",
      "Could not find any tweets.\n",
      "\n",
      "\n",
      "Finished processing topic elon-musk-twitter.\n",
      "\n",
      "----------------------------------------------------------------------------------------------------\n",
      "----------------------------------------------------------------------------------------------------\n",
      "\n",
      "Start processing topic worldcup...\n",
      "\n",
      "Processing article 1/7 now...\n",
      "\n",
      "Searching tweets using search term 'url:https://www.bbc.com/sport/football/63932622'... "
     ]
    },
    {
     "name": "stderr",
     "output_type": "stream",
     "text": [
      "c:\\Users\\maxim\\Documents\\Studium\\Master\\Year 2\\Period 2\\the-social-hack\\NewsTracker\\Twitter.py:84: RuntimeWarning: coroutine 'Twint.main' was never awaited\n",
      "  break\n",
      "RuntimeWarning: Enable tracemalloc to get the object allocation traceback\n"
     ]
    },
    {
     "name": "stdout",
     "output_type": "stream",
     "text": [
      "Done.\n",
      "\n",
      "Could not find any tweets.\n",
      "\n",
      "\n",
      "Processing article 2/7 now...\n",
      "\n",
      "Searching tweets using search term 'url:https://www.euronews.com/2022/11/23/the-qatar-world-cup-kicks-off-with-an-extravagant-ceremony'... "
     ]
    },
    {
     "name": "stderr",
     "output_type": "stream",
     "text": [
      "c:\\Users\\maxim\\Documents\\Studium\\Master\\Year 2\\Period 2\\the-social-hack\\NewsTracker\\Twitter.py:84: RuntimeWarning: coroutine 'Twint.main' was never awaited\n",
      "  break\n",
      "RuntimeWarning: Enable tracemalloc to get the object allocation traceback\n"
     ]
    },
    {
     "name": "stdout",
     "output_type": "stream",
     "text": [
      "Done.\n",
      "\n",
      "Could not find any tweets.\n",
      "\n",
      "\n",
      "Processing article 3/7 now...\n",
      "\n",
      "Searching tweets using search term 'url:https://www.euronews.com/2022/12/18/champions-lionel-messi-leads-argentina-to-electrifying-world-cup-victory-over-france'... Done.\n",
      "\n",
      "Could not find any tweets.\n",
      "\n",
      "\n",
      "Processing article 4/7 now...\n",
      "\n",
      "Searching tweets using search term 'url:https://www.cnbc.com/2022/12/15/fubotv-hit-with-cyber-attack-during-world-cup-semifinal-match.html'... "
     ]
    },
    {
     "name": "stderr",
     "output_type": "stream",
     "text": [
      "c:\\Users\\maxim\\Documents\\Studium\\Master\\Year 2\\Period 2\\the-social-hack\\NewsTracker\\Twitter.py:84: RuntimeWarning: coroutine 'Twint.main' was never awaited\n",
      "  break\n",
      "RuntimeWarning: Enable tracemalloc to get the object allocation traceback\n",
      "c:\\Users\\maxim\\Documents\\Studium\\Master\\Year 2\\Period 2\\the-social-hack\\NewsTracker\\Twitter.py:84: RuntimeWarning: coroutine 'Twint.main' was never awaited\n",
      "  break\n",
      "RuntimeWarning: Enable tracemalloc to get the object allocation traceback\n"
     ]
    },
    {
     "name": "stdout",
     "output_type": "stream",
     "text": [
      "Done.\n",
      "\n",
      "Could not find any tweets.\n",
      "\n",
      "\n",
      "Processing article 5/7 now...\n",
      "\n",
      "Searching tweets using search term 'url:https://www.skysports.com/football/croatia-vs-morocco/report/463027'... "
     ]
    },
    {
     "name": "stderr",
     "output_type": "stream",
     "text": [
      "c:\\Users\\maxim\\Documents\\Studium\\Master\\Year 2\\Period 2\\the-social-hack\\NewsTracker\\Twitter.py:84: RuntimeWarning: coroutine 'Twint.main' was never awaited\n",
      "  break\n",
      "RuntimeWarning: Enable tracemalloc to get the object allocation traceback\n"
     ]
    },
    {
     "name": "stdout",
     "output_type": "stream",
     "text": [
      "Done.\n",
      "\n",
      "Could not find any tweets.\n",
      "\n",
      "\n",
      "Processing article 6/7 now...\n",
      "\n",
      "Searching tweets using search term 'url:https://www.foxsports.com/stories/soccer/world-cup-2022-5-most-memorable-upsets-of-the-tourney'... "
     ]
    },
    {
     "name": "stderr",
     "output_type": "stream",
     "text": [
      "c:\\Users\\maxim\\Documents\\Studium\\Master\\Year 2\\Period 2\\the-social-hack\\NewsTracker\\Twitter.py:84: RuntimeWarning: coroutine 'Twint.main' was never awaited\n",
      "  break\n",
      "RuntimeWarning: Enable tracemalloc to get the object allocation traceback\n"
     ]
    },
    {
     "name": "stdout",
     "output_type": "stream",
     "text": [
      "Done.\n",
      "\n",
      "Could not find any tweets.\n",
      "\n",
      "\n",
      "Processing article 7/7 now...\n",
      "\n",
      "Searching tweets using search term 'url:https://www.theguardian.com/football/live/2022/dec/09/netherlands-v-argentina-world-cup-2022-quarter-final-live-score-updates'... "
     ]
    },
    {
     "name": "stderr",
     "output_type": "stream",
     "text": [
      "c:\\Users\\maxim\\Documents\\Studium\\Master\\Year 2\\Period 2\\the-social-hack\\NewsTracker\\Twitter.py:84: RuntimeWarning: coroutine 'Twint.main' was never awaited\n",
      "  break\n",
      "RuntimeWarning: Enable tracemalloc to get the object allocation traceback\n"
     ]
    },
    {
     "name": "stdout",
     "output_type": "stream",
     "text": [
      "Done.\n",
      "\n",
      "Could not find any tweets.\n",
      "\n",
      "\n",
      "Finished processing topic worldcup.\n",
      "\n",
      "----------------------------------------------------------------------------------------------------\n",
      "----------------------------------------------------------------------------------------------------\n",
      "\n",
      "Start processing topic chatgpt...\n",
      "\n",
      "Processing article 1/6 now...\n",
      "\n",
      "Searching tweets using search term 'url:https://www.theguardian.com/commentisfree/2022/dec/11/chatgpt-is-a-marvel-but-its-ability-to-lie-convincingly-is-its-greatest-danger-to-humankind'... "
     ]
    },
    {
     "name": "stderr",
     "output_type": "stream",
     "text": [
      "c:\\Users\\maxim\\Documents\\Studium\\Master\\Year 2\\Period 2\\the-social-hack\\NewsTracker\\Twitter.py:84: RuntimeWarning: coroutine 'Twint.main' was never awaited\n",
      "  break\n",
      "RuntimeWarning: Enable tracemalloc to get the object allocation traceback\n"
     ]
    },
    {
     "name": "stdout",
     "output_type": "stream",
     "text": [
      "Done.\n",
      "\n",
      "Could not find any tweets.\n",
      "\n",
      "\n",
      "Processing article 2/6 now...\n",
      "\n",
      "Searching tweets using search term 'url:https://www.bbc.com/news/technology-63861322'... "
     ]
    },
    {
     "name": "stderr",
     "output_type": "stream",
     "text": [
      "c:\\Users\\maxim\\Documents\\Studium\\Master\\Year 2\\Period 2\\the-social-hack\\NewsTracker\\Twitter.py:84: RuntimeWarning: coroutine 'Twint.main' was never awaited\n",
      "  break\n",
      "RuntimeWarning: Enable tracemalloc to get the object allocation traceback\n"
     ]
    },
    {
     "name": "stdout",
     "output_type": "stream",
     "text": [
      "Done.\n",
      "\n",
      "Could not find any tweets.\n",
      "\n",
      "\n",
      "Processing article 3/6 now...\n",
      "\n",
      "Searching tweets using search term 'url:https://www.euronews.com/next/2022/12/14/chatgpt-why-the-human-like-ai-chatbot-suddenly-got-everyone-talking'... "
     ]
    },
    {
     "name": "stderr",
     "output_type": "stream",
     "text": [
      "c:\\Users\\maxim\\Documents\\Studium\\Master\\Year 2\\Period 2\\the-social-hack\\NewsTracker\\Twitter.py:84: RuntimeWarning: coroutine 'Twint.main' was never awaited\n",
      "  break\n",
      "RuntimeWarning: Enable tracemalloc to get the object allocation traceback\n"
     ]
    },
    {
     "name": "stdout",
     "output_type": "stream",
     "text": [
      "Done.\n",
      "\n",
      "Could not find any tweets.\n",
      "\n",
      "\n",
      "Processing article 4/6 now...\n",
      "\n",
      "Searching tweets using search term 'url:https://www.cnbc.com/2022/12/13/chatgpt-is-a-new-ai-chatbot-that-can-answer-questions-and-write-essays.html'... "
     ]
    },
    {
     "name": "stderr",
     "output_type": "stream",
     "text": [
      "c:\\Users\\maxim\\Documents\\Studium\\Master\\Year 2\\Period 2\\the-social-hack\\NewsTracker\\Twitter.py:84: RuntimeWarning: coroutine 'Twint.main' was never awaited\n",
      "  break\n",
      "RuntimeWarning: Enable tracemalloc to get the object allocation traceback\n"
     ]
    },
    {
     "name": "stdout",
     "output_type": "stream",
     "text": [
      "Done.\n",
      "\n",
      "Could not find any tweets.\n",
      "\n",
      "\n",
      "Processing article 5/6 now...\n",
      "\n",
      "Searching tweets using search term 'url:https://www.sciencefocus.com/future-technology/gpt-3/'... "
     ]
    },
    {
     "name": "stderr",
     "output_type": "stream",
     "text": [
      "c:\\Users\\maxim\\Documents\\Studium\\Master\\Year 2\\Period 2\\the-social-hack\\NewsTracker\\Twitter.py:84: RuntimeWarning: coroutine 'Twint.main' was never awaited\n",
      "  break\n",
      "RuntimeWarning: Enable tracemalloc to get the object allocation traceback\n"
     ]
    },
    {
     "name": "stdout",
     "output_type": "stream",
     "text": [
      "Done.\n",
      "\n",
      "Could not find any tweets.\n",
      "\n",
      "\n",
      "Processing article 6/6 now...\n",
      "\n",
      "Searching tweets using search term 'url:https://www.bleepingcomputer.com/news/technology/openais-new-chatgpt-bot-10-dangerous-things-its-capable-of/'... "
     ]
    },
    {
     "name": "stderr",
     "output_type": "stream",
     "text": [
      "c:\\Users\\maxim\\Documents\\Studium\\Master\\Year 2\\Period 2\\the-social-hack\\NewsTracker\\Twitter.py:84: RuntimeWarning: coroutine 'Twint.main' was never awaited\n",
      "  break\n",
      "RuntimeWarning: Enable tracemalloc to get the object allocation traceback\n"
     ]
    },
    {
     "name": "stdout",
     "output_type": "stream",
     "text": [
      "Done.\n",
      "\n",
      "Could not find any tweets.\n",
      "\n",
      "\n",
      "Finished processing topic chatgpt.\n",
      "\n",
      "----------------------------------------------------------------------------------------------------\n",
      "----------------------------------------------------------------------------------------------------\n",
      "\n",
      "Start processing topic bts-army...\n",
      "\n",
      "Processing article 1/6 now...\n",
      "\n",
      "Searching tweets using search term 'url:https://www.bbc.com/news/world-asia-63944860'... "
     ]
    },
    {
     "name": "stderr",
     "output_type": "stream",
     "text": [
      "c:\\Users\\maxim\\Documents\\Studium\\Master\\Year 2\\Period 2\\the-social-hack\\NewsTracker\\Twitter.py:84: RuntimeWarning: coroutine 'Twint.main' was never awaited\n",
      "  break\n",
      "RuntimeWarning: Enable tracemalloc to get the object allocation traceback\n"
     ]
    },
    {
     "name": "stdout",
     "output_type": "stream",
     "text": [
      "Done.\n",
      "\n",
      "Could not find any tweets.\n",
      "\n",
      "\n",
      "Processing article 2/6 now...\n",
      "\n",
      "Searching tweets using search term 'url:https://www.euronews.com/culture/2022/10/10/bts-south-korean-military-leader-says-he-wants-k-pop-band-to-do-military-service'... "
     ]
    },
    {
     "name": "stderr",
     "output_type": "stream",
     "text": [
      "c:\\Users\\maxim\\Documents\\Studium\\Master\\Year 2\\Period 2\\the-social-hack\\NewsTracker\\Twitter.py:84: RuntimeWarning: coroutine 'Twint.main' was never awaited\n",
      "  break\n",
      "RuntimeWarning: Enable tracemalloc to get the object allocation traceback\n"
     ]
    },
    {
     "name": "stdout",
     "output_type": "stream",
     "text": [
      "Done.\n",
      "\n",
      "Could not find any tweets.\n",
      "\n",
      "\n",
      "Processing article 3/6 now...\n",
      "\n",
      "Searching tweets using search term 'url:https://www.cnbc.com/2022/10/17/bts-stars-to-serve-military-duty-in-south-korea.html'... "
     ]
    },
    {
     "name": "stderr",
     "output_type": "stream",
     "text": [
      "c:\\Users\\maxim\\Documents\\Studium\\Master\\Year 2\\Period 2\\the-social-hack\\NewsTracker\\Twitter.py:84: RuntimeWarning: coroutine 'Twint.main' was never awaited\n",
      "  break\n",
      "RuntimeWarning: Enable tracemalloc to get the object allocation traceback\n"
     ]
    },
    {
     "name": "stdout",
     "output_type": "stream",
     "text": [
      "Done.\n",
      "\n",
      "Could not find any tweets.\n",
      "\n",
      "\n",
      "Processing article 4/6 now...\n",
      "\n",
      "Searching tweets using search term 'url:https://www.allkpop.com/article/2022/12/bts-jin-to-receive-extra-security-for-military-enlistment'... "
     ]
    },
    {
     "name": "stderr",
     "output_type": "stream",
     "text": [
      "c:\\Users\\maxim\\Documents\\Studium\\Master\\Year 2\\Period 2\\the-social-hack\\NewsTracker\\Twitter.py:84: RuntimeWarning: coroutine 'Twint.main' was never awaited\n",
      "  break\n",
      "RuntimeWarning: Enable tracemalloc to get the object allocation traceback\n"
     ]
    },
    {
     "name": "stdout",
     "output_type": "stream",
     "text": [
      "Done.\n",
      "\n",
      "Could not find any tweets.\n",
      "\n",
      "\n",
      "Processing article 5/6 now...\n",
      "\n",
      "Searching tweets using search term 'url:https://koreajoongangdaily.joins.com/2022/12/13/entertainment/kpop/Korea-Jin-BTS/20221213094055711.html'... "
     ]
    },
    {
     "name": "stderr",
     "output_type": "stream",
     "text": [
      "c:\\Users\\maxim\\Documents\\Studium\\Master\\Year 2\\Period 2\\the-social-hack\\NewsTracker\\Twitter.py:84: RuntimeWarning: coroutine 'Twint.main' was never awaited\n",
      "  break\n",
      "RuntimeWarning: Enable tracemalloc to get the object allocation traceback\n"
     ]
    },
    {
     "name": "stdout",
     "output_type": "stream",
     "text": [
      "Done.\n",
      "\n",
      "Could not find any tweets.\n",
      "\n",
      "\n",
      "Processing article 6/6 now...\n",
      "\n",
      "Searching tweets using search term 'url:https://www.theguardian.com/music/2022/dec/15/bts-military-service-kpop-jin-kim-south-korea'... "
     ]
    },
    {
     "name": "stderr",
     "output_type": "stream",
     "text": [
      "c:\\Users\\maxim\\Documents\\Studium\\Master\\Year 2\\Period 2\\the-social-hack\\NewsTracker\\Twitter.py:84: RuntimeWarning: coroutine 'Twint.main' was never awaited\n",
      "  break\n",
      "RuntimeWarning: Enable tracemalloc to get the object allocation traceback\n"
     ]
    },
    {
     "name": "stdout",
     "output_type": "stream",
     "text": [
      "Done.\n",
      "\n",
      "Could not find any tweets.\n",
      "\n",
      "\n",
      "Finished processing topic bts-army.\n",
      "\n",
      "----------------------------------------------------------------------------------------------------\n",
      "----------------------------------------------------------------------------------------------------\n",
      "\n",
      "Start processing topic iran-women-rights...\n",
      "\n",
      "Processing article 1/6 now...\n",
      "\n",
      "Searching tweets using search term 'url:https://www.bbc.com/news/world-middle-east-62930425'... "
     ]
    },
    {
     "name": "stderr",
     "output_type": "stream",
     "text": [
      "c:\\Users\\maxim\\Documents\\Studium\\Master\\Year 2\\Period 2\\the-social-hack\\NewsTracker\\Twitter.py:84: RuntimeWarning: coroutine 'Twint.main' was never awaited\n",
      "  break\n",
      "RuntimeWarning: Enable tracemalloc to get the object allocation traceback\n"
     ]
    },
    {
     "name": "stdout",
     "output_type": "stream",
     "text": [
      "Done.\n",
      "\n",
      "Could not find any tweets.\n",
      "\n",
      "\n",
      "Processing article 2/6 now...\n",
      "\n",
      "Searching tweets using search term 'url:https://www.euronews.com/2022/12/04/iran-disbands-morality-police-amid-two-and-half-months-of-nationwide-protests'... "
     ]
    },
    {
     "name": "stderr",
     "output_type": "stream",
     "text": [
      "c:\\Users\\maxim\\Documents\\Studium\\Master\\Year 2\\Period 2\\the-social-hack\\NewsTracker\\Twitter.py:84: RuntimeWarning: coroutine 'Twint.main' was never awaited\n",
      "  break\n",
      "RuntimeWarning: Enable tracemalloc to get the object allocation traceback\n"
     ]
    },
    {
     "name": "stdout",
     "output_type": "stream",
     "text": [
      "Done.\n",
      "\n",
      "Could not find any tweets.\n",
      "\n",
      "\n",
      "Processing article 3/6 now...\n",
      "\n",
      "Searching tweets using search term 'url:https://www.cnbc.com/2022/12/05/iran-denies-abolition-of-morality-police-as-three-day-strike-begins.html'... "
     ]
    },
    {
     "name": "stderr",
     "output_type": "stream",
     "text": [
      "c:\\Users\\maxim\\Documents\\Studium\\Master\\Year 2\\Period 2\\the-social-hack\\NewsTracker\\Twitter.py:84: RuntimeWarning: coroutine 'Twint.main' was never awaited\n",
      "  break\n",
      "RuntimeWarning: Enable tracemalloc to get the object allocation traceback\n"
     ]
    },
    {
     "name": "stdout",
     "output_type": "stream",
     "text": [
      "Done.\n",
      "\n",
      "Could not find any tweets.\n",
      "\n",
      "\n",
      "Processing article 4/6 now...\n",
      "\n",
      "Searching tweets using search term 'url:https://www.middleeasteye.net/news/iran-mahsa-amini-protests-first-execution-carried-out'... "
     ]
    },
    {
     "name": "stderr",
     "output_type": "stream",
     "text": [
      "c:\\Users\\maxim\\Documents\\Studium\\Master\\Year 2\\Period 2\\the-social-hack\\NewsTracker\\Twitter.py:84: RuntimeWarning: coroutine 'Twint.main' was never awaited\n",
      "  break\n",
      "RuntimeWarning: Enable tracemalloc to get the object allocation traceback\n"
     ]
    },
    {
     "name": "stdout",
     "output_type": "stream",
     "text": [
      "Done.\n",
      "\n",
      "Could not find any tweets.\n",
      "\n",
      "\n",
      "Processing article 5/6 now...\n",
      "\n",
      "Searching tweets using search term 'url:https://www.arabnews.com/node/2209306'... "
     ]
    },
    {
     "name": "stderr",
     "output_type": "stream",
     "text": [
      "c:\\Users\\maxim\\Documents\\Studium\\Master\\Year 2\\Period 2\\the-social-hack\\NewsTracker\\Twitter.py:84: RuntimeWarning: coroutine 'Twint.main' was never awaited\n",
      "  break\n",
      "RuntimeWarning: Enable tracemalloc to get the object allocation traceback\n"
     ]
    },
    {
     "name": "stdout",
     "output_type": "stream",
     "text": [
      "Done.\n",
      "\n",
      "Could not find any tweets.\n",
      "\n",
      "\n",
      "Processing article 6/6 now...\n",
      "\n",
      "Searching tweets using search term 'url:https://amp.theguardian.com/global-development/2022/dec/08/iranian-forces-shooting-at-faces-and-genitals-of-female-protesters-medics-say'... "
     ]
    },
    {
     "name": "stderr",
     "output_type": "stream",
     "text": [
      "c:\\Users\\maxim\\Documents\\Studium\\Master\\Year 2\\Period 2\\the-social-hack\\NewsTracker\\Twitter.py:84: RuntimeWarning: coroutine 'Twint.main' was never awaited\n",
      "  break\n",
      "RuntimeWarning: Enable tracemalloc to get the object allocation traceback\n"
     ]
    },
    {
     "name": "stdout",
     "output_type": "stream",
     "text": [
      "Done.\n",
      "\n",
      "Could not find any tweets.\n",
      "\n",
      "\n",
      "Finished processing topic iran-women-rights.\n",
      "\n",
      "----------------------------------------------------------------------------------------------------\n",
      "\n",
      "Start analysis...\n",
      "\n",
      "Extracting users...\n"
     ]
    },
    {
     "ename": "NotFound",
     "evalue": "404 Not Found\n17 - No user matches for specified terms.",
     "output_type": "error",
     "traceback": [
      "\u001b[1;31m---------------------------------------------------------------------------\u001b[0m",
      "\u001b[1;31mNotFound\u001b[0m                                  Traceback (most recent call last)",
      "Cell \u001b[1;32mIn [8], line 2\u001b[0m\n\u001b[0;32m      1\u001b[0m analyze_topics()\n\u001b[1;32m----> 2\u001b[0m merge_topics()\n",
      "Cell \u001b[1;32mIn [7], line 24\u001b[0m, in \u001b[0;36mmerge_topics\u001b[1;34m()\u001b[0m\n\u001b[0;32m     22\u001b[0m \u001b[39m# analyze the merged tweets\u001b[39;00m\n\u001b[0;32m     23\u001b[0m twitter\u001b[39m.\u001b[39mstore_tweets(parents, os\u001b[39m.\u001b[39mpath\u001b[39m.\u001b[39mjoin(merged_folder_dir, \u001b[39m\"\u001b[39m\u001b[39mtweets.json\u001b[39m\u001b[39m\"\u001b[39m))\n\u001b[1;32m---> 24\u001b[0m twitter\u001b[39m.\u001b[39;49manalyze(parents, tweets, merged_folder_dir)\n",
      "File \u001b[1;32mc:\\Users\\maxim\\Documents\\Studium\\Master\\Year 2\\Period 2\\the-social-hack\\NewsTracker\\Twitter.py:535\u001b[0m, in \u001b[0;36mTwitterAnalyzer.analyze\u001b[1;34m(self, parent_tweets, all_tweets, foldername)\u001b[0m\n\u001b[0;32m    533\u001b[0m \u001b[39m# extract all users from the tweets\u001b[39;00m\n\u001b[0;32m    534\u001b[0m \u001b[39mprint\u001b[39m(\u001b[39m\"\u001b[39m\u001b[39mExtracting users...\u001b[39m\u001b[39m\"\u001b[39m)\n\u001b[1;32m--> 535\u001b[0m users \u001b[39m=\u001b[39m \u001b[39mself\u001b[39;49m\u001b[39m.\u001b[39;49mget_users_from_tweets(all_tweets)\n\u001b[0;32m    537\u001b[0m \u001b[39m# write metadata text file containing count of tweets, as well as users\u001b[39;00m\n\u001b[0;32m    538\u001b[0m \u001b[39mprint\u001b[39m(\u001b[39m\"\u001b[39m\u001b[39mWrite metadata...\u001b[39m\u001b[39m\"\u001b[39m)\n",
      "File \u001b[1;32mc:\\Users\\maxim\\Documents\\Studium\\Master\\Year 2\\Period 2\\the-social-hack\\NewsTracker\\Twitter.py:809\u001b[0m, in \u001b[0;36mTwitterAnalyzer.get_users_from_tweets\u001b[1;34m(self, tweets)\u001b[0m\n\u001b[0;32m    807\u001b[0m     user_batch \u001b[39m=\u001b[39m usernames[request_round\u001b[39m*\u001b[39m\u001b[39m100\u001b[39m:\u001b[39mmin\u001b[39m(request_round\u001b[39m*\u001b[39m\u001b[39m100\u001b[39m\u001b[39m+\u001b[39m\u001b[39m100\u001b[39m, requested_users)]\n\u001b[0;32m    808\u001b[0m     \u001b[39m# reat user info\u001b[39;00m\n\u001b[1;32m--> 809\u001b[0m     user_info \u001b[39m+\u001b[39m\u001b[39m=\u001b[39m \u001b[39mself\u001b[39;49m\u001b[39m.\u001b[39;49mapi\u001b[39m.\u001b[39;49mlookup_users(screen_name\u001b[39m=\u001b[39;49muser_batch)\n\u001b[0;32m    810\u001b[0m     request_round \u001b[39m+\u001b[39m\u001b[39m=\u001b[39m \u001b[39m1\u001b[39m\n\u001b[0;32m    812\u001b[0m \u001b[39m# generate user object from user infos\u001b[39;00m\n",
      "File \u001b[1;32mc:\\Users\\maxim\\Documents\\Studium\\Master\\Year 2\\Period 2\\the-social-hack\\venv\\lib\\site-packages\\tweepy\\api.py:46\u001b[0m, in \u001b[0;36mpayload.<locals>.decorator.<locals>.wrapper\u001b[1;34m(*args, **kwargs)\u001b[0m\n\u001b[0;32m     44\u001b[0m kwargs[\u001b[39m'\u001b[39m\u001b[39mpayload_list\u001b[39m\u001b[39m'\u001b[39m] \u001b[39m=\u001b[39m payload_list\n\u001b[0;32m     45\u001b[0m kwargs[\u001b[39m'\u001b[39m\u001b[39mpayload_type\u001b[39m\u001b[39m'\u001b[39m] \u001b[39m=\u001b[39m payload_type\n\u001b[1;32m---> 46\u001b[0m \u001b[39mreturn\u001b[39;00m method(\u001b[39m*\u001b[39;49margs, \u001b[39m*\u001b[39;49m\u001b[39m*\u001b[39;49mkwargs)\n",
      "File \u001b[1;32mc:\\Users\\maxim\\Documents\\Studium\\Master\\Year 2\\Period 2\\the-social-hack\\venv\\lib\\site-packages\\tweepy\\api.py:2443\u001b[0m, in \u001b[0;36mAPI.lookup_users\u001b[1;34m(self, screen_name, user_id, **kwargs)\u001b[0m\n\u001b[0;32m   2404\u001b[0m \u001b[39m@payload\u001b[39m(\u001b[39m'\u001b[39m\u001b[39muser\u001b[39m\u001b[39m'\u001b[39m, \u001b[39mlist\u001b[39m\u001b[39m=\u001b[39m\u001b[39mTrue\u001b[39;00m)\n\u001b[0;32m   2405\u001b[0m \u001b[39mdef\u001b[39;00m \u001b[39mlookup_users\u001b[39m(\u001b[39mself\u001b[39m, \u001b[39m*\u001b[39m, screen_name\u001b[39m=\u001b[39m\u001b[39mNone\u001b[39;00m, user_id\u001b[39m=\u001b[39m\u001b[39mNone\u001b[39;00m, \u001b[39m*\u001b[39m\u001b[39m*\u001b[39mkwargs):\n\u001b[0;32m   2406\u001b[0m     \u001b[39m\"\"\"lookup_users(*, screen_name, user_id, include_entities, tweet_mode)\u001b[39;00m\n\u001b[0;32m   2407\u001b[0m \n\u001b[0;32m   2408\u001b[0m \u001b[39m    Returns fully-hydrated user objects for up to 100 users per request.\u001b[39;00m\n\u001b[1;32m   (...)\u001b[0m\n\u001b[0;32m   2441\u001b[0m \u001b[39m    https://developer.twitter.com/en/docs/twitter-api/v1/accounts-and-users/follow-search-get-users/api-reference/get-users-lookup\u001b[39;00m\n\u001b[0;32m   2442\u001b[0m \u001b[39m    \"\"\"\u001b[39;00m\n\u001b[1;32m-> 2443\u001b[0m     \u001b[39mreturn\u001b[39;00m \u001b[39mself\u001b[39;49m\u001b[39m.\u001b[39;49mrequest(\n\u001b[0;32m   2444\u001b[0m         \u001b[39m'\u001b[39;49m\u001b[39mPOST\u001b[39;49m\u001b[39m'\u001b[39;49m, \u001b[39m'\u001b[39;49m\u001b[39musers/lookup\u001b[39;49m\u001b[39m'\u001b[39;49m, endpoint_parameters\u001b[39m=\u001b[39;49m(\n\u001b[0;32m   2445\u001b[0m             \u001b[39m'\u001b[39;49m\u001b[39mscreen_name\u001b[39;49m\u001b[39m'\u001b[39;49m, \u001b[39m'\u001b[39;49m\u001b[39muser_id\u001b[39;49m\u001b[39m'\u001b[39;49m, \u001b[39m'\u001b[39;49m\u001b[39minclude_entities\u001b[39;49m\u001b[39m'\u001b[39;49m, \u001b[39m'\u001b[39;49m\u001b[39mtweet_mode\u001b[39;49m\u001b[39m'\u001b[39;49m\n\u001b[0;32m   2446\u001b[0m         ), screen_name\u001b[39m=\u001b[39;49mlist_to_csv(screen_name),\n\u001b[0;32m   2447\u001b[0m         user_id\u001b[39m=\u001b[39;49mlist_to_csv(user_id), \u001b[39m*\u001b[39;49m\u001b[39m*\u001b[39;49mkwargs\n\u001b[0;32m   2448\u001b[0m     )\n",
      "File \u001b[1;32mc:\\Users\\maxim\\Documents\\Studium\\Master\\Year 2\\Period 2\\the-social-hack\\venv\\lib\\site-packages\\tweepy\\api.py:267\u001b[0m, in \u001b[0;36mAPI.request\u001b[1;34m(self, method, endpoint, endpoint_parameters, params, headers, json_payload, parser, payload_list, payload_type, post_data, files, require_auth, return_cursors, upload_api, use_cache, **kwargs)\u001b[0m\n\u001b[0;32m    265\u001b[0m     \u001b[39mraise\u001b[39;00m Forbidden(resp)\n\u001b[0;32m    266\u001b[0m \u001b[39mif\u001b[39;00m resp\u001b[39m.\u001b[39mstatus_code \u001b[39m==\u001b[39m \u001b[39m404\u001b[39m:\n\u001b[1;32m--> 267\u001b[0m     \u001b[39mraise\u001b[39;00m NotFound(resp)\n\u001b[0;32m    268\u001b[0m \u001b[39mif\u001b[39;00m resp\u001b[39m.\u001b[39mstatus_code \u001b[39m==\u001b[39m \u001b[39m429\u001b[39m:\n\u001b[0;32m    269\u001b[0m     \u001b[39mraise\u001b[39;00m TooManyRequests(resp)\n",
      "\u001b[1;31mNotFound\u001b[0m: 404 Not Found\n17 - No user matches for specified terms."
     ]
    }
   ],
   "source": [
    "analyze_topics()\n",
    "merge_topics()"
   ]
  }
 ],
 "metadata": {
  "kernelspec": {
   "display_name": "Python 3.8.10 ('venv': venv)",
   "language": "python",
   "name": "python3"
  },
  "language_info": {
   "codemirror_mode": {
    "name": "ipython",
    "version": 3
   },
   "file_extension": ".py",
   "mimetype": "text/x-python",
   "name": "python",
   "nbconvert_exporter": "python",
   "pygments_lexer": "ipython3",
   "version": "3.8.10"
  },
  "orig_nbformat": 4,
  "vscode": {
   "interpreter": {
    "hash": "3dfdb47869e774fd0d9d79d4bda1d4f4e93acd16e1eaa5fa8ee20b55511ec056"
   }
  }
 },
 "nbformat": 4,
 "nbformat_minor": 2
}
