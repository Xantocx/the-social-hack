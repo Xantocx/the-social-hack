{
 "cells": [
  {
   "cell_type": "markdown",
   "metadata": {},
   "source": [
    "*****************************************************************\n",
    "#  The Social Web \n",
    "- Instructors: Davide Ceolin.\n",
    "- TAs: Jacco van Ossenbruggen, Elena Beretta, Mirthe Dankloff.\n",
    "- Exercises for Hands-on session 1- TAs: Jacco van Ossenbruggen, Elena Beretta, Mirthe Dankloff.\n",
    "*****************************************************************"
   ]
  },
  {
   "cell_type": "markdown",
   "metadata": {},
   "source": [
    "Prerequisites:\n",
    "- Python 3.8\n",
    "- Python packages: twitter, prettytable, matplotlib\n",
    "\n",
    "First you need to know how to retrieve some social web data. Exercises 1 and 2 will show you how to retrieve trends and search results from Twitter. \n",
    "\n",
    "But let's check first if we're running a sufficiently new version of Python:"
   ]
  },
  {
   "cell_type": "code",
   "execution_count": 75,
   "metadata": {},
   "outputs": [
    {
     "name": "stdout",
     "output_type": "stream",
     "text": [
      "This jupyter notebook is running on Python 3.8.5\n"
     ]
    }
   ],
   "source": [
    "import platform\n",
    "import sys\n",
    "print(\"This jupyter notebook is running on Python \" + platform.python_version())\n",
    "# It's good practice to assert packages requirements at the beginning of a script:\n",
    "assert sys.version_info >= (3, 6)"
   ]
  },
  {
   "cell_type": "markdown",
   "metadata": {},
   "source": [
    "Let's install now the required packages for this hands on session:"
   ]
  },
  {
   "cell_type": "code",
   "execution_count": 76,
   "metadata": {},
   "outputs": [
    {
     "name": "stdout",
     "output_type": "stream",
     "text": [
      "Requirement already satisfied: python-twitter-v2 in c:\\iw\\python\\projects\\.virtualevns\\soweb\\lib\\site-packages (0.7.9)"
     ]
    },
    {
     "name": "stderr",
     "output_type": "stream",
     "text": [
      "WARNING: You are using pip version 21.3.1; however, version 22.3.1 is available.\n",
      "You should consider upgrading via the 'C:\\IW\\python\\projects\\.virtualevns\\soweb\\Scripts\\python.exe -m pip install --upgrade pip' command.\n"
     ]
    },
    {
     "name": "stdout",
     "output_type": "stream",
     "text": [
      "\n",
      "Requirement already satisfied: PrettyTable in c:\\iw\\python\\projects\\.virtualevns\\soweb\\lib\\site-packages (3.5.0)\n",
      "Requirement already satisfied: matplotlib in c:\\iw\\python\\projects\\.virtualevns\\soweb\\lib\\site-packages (3.6.2)\n",
      "Requirement already satisfied: geocoder in c:\\iw\\python\\projects\\.virtualevns\\soweb\\lib\\site-packages (1.38.1)\n",
      "Requirement already satisfied: tweepy in c:\\iw\\python\\projects\\.virtualevns\\soweb\\lib\\site-packages (4.12.1)\n",
      "Requirement already satisfied: dataclasses-json<0.6.0,>=0.5.2 in c:\\iw\\python\\projects\\.virtualevns\\soweb\\lib\\site-packages (from python-twitter-v2) (0.5.7)\n",
      "Requirement already satisfied: requests<3.0,>=2.24 in c:\\iw\\python\\projects\\.virtualevns\\soweb\\lib\\site-packages (from python-twitter-v2) (2.28.1)\n",
      "Requirement already satisfied: Authlib<0.16.0,>=0.15.4 in c:\\iw\\python\\projects\\.virtualevns\\soweb\\lib\\site-packages (from python-twitter-v2) (0.15.6)\n",
      "Requirement already satisfied: wcwidth in c:\\iw\\python\\projects\\.virtualevns\\soweb\\lib\\site-packages (from PrettyTable) (0.2.5)\n",
      "Requirement already satisfied: pillow>=6.2.0 in c:\\iw\\python\\projects\\.virtualevns\\soweb\\lib\\site-packages (from matplotlib) (9.3.0)\n",
      "Requirement already satisfied: kiwisolver>=1.0.1 in c:\\iw\\python\\projects\\.virtualevns\\soweb\\lib\\site-packages (from matplotlib) (1.4.4)\n",
      "Requirement already satisfied: fonttools>=4.22.0 in c:\\iw\\python\\projects\\.virtualevns\\soweb\\lib\\site-packages (from matplotlib) (4.38.0)\n",
      "Requirement already satisfied: packaging>=20.0 in c:\\iw\\python\\projects\\.virtualevns\\soweb\\lib\\site-packages (from matplotlib) (21.3)\n",
      "Requirement already satisfied: pyparsing>=2.2.1 in c:\\iw\\python\\projects\\.virtualevns\\soweb\\lib\\site-packages (from matplotlib) (3.0.9)\n",
      "Requirement already satisfied: contourpy>=1.0.1 in c:\\iw\\python\\projects\\.virtualevns\\soweb\\lib\\site-packages (from matplotlib) (1.0.6)\n",
      "Requirement already satisfied: numpy>=1.19 in c:\\iw\\python\\projects\\.virtualevns\\soweb\\lib\\site-packages (from matplotlib) (1.23.4)\n",
      "Requirement already satisfied: cycler>=0.10 in c:\\iw\\python\\projects\\.virtualevns\\soweb\\lib\\site-packages (from matplotlib) (0.11.0)\n",
      "Requirement already satisfied: python-dateutil>=2.7 in c:\\iw\\python\\projects\\.virtualevns\\soweb\\lib\\site-packages (from matplotlib) (2.8.2)\n",
      "Requirement already satisfied: six in c:\\iw\\python\\projects\\.virtualevns\\soweb\\lib\\site-packages (from geocoder) (1.16.0)\n",
      "Requirement already satisfied: ratelim in c:\\iw\\python\\projects\\.virtualevns\\soweb\\lib\\site-packages (from geocoder) (0.1.6)\n",
      "Requirement already satisfied: click in c:\\iw\\python\\projects\\.virtualevns\\soweb\\lib\\site-packages (from geocoder) (8.1.3)\n",
      "Requirement already satisfied: future in c:\\iw\\python\\projects\\.virtualevns\\soweb\\lib\\site-packages (from geocoder) (0.18.2)\n",
      "Requirement already satisfied: requests-oauthlib<2,>=1.2.0 in c:\\iw\\python\\projects\\.virtualevns\\soweb\\lib\\site-packages (from tweepy) (1.3.1)\n",
      "Requirement already satisfied: oauthlib<4,>=3.2.0 in c:\\iw\\python\\projects\\.virtualevns\\soweb\\lib\\site-packages (from tweepy) (3.2.2)\n",
      "Requirement already satisfied: cryptography in c:\\iw\\python\\projects\\.virtualevns\\soweb\\lib\\site-packages (from Authlib<0.16.0,>=0.15.4->python-twitter-v2) (38.0.3)\n",
      "Requirement already satisfied: typing-inspect>=0.4.0 in c:\\iw\\python\\projects\\.virtualevns\\soweb\\lib\\site-packages (from dataclasses-json<0.6.0,>=0.5.2->python-twitter-v2) (0.8.0)\n",
      "Requirement already satisfied: marshmallow<4.0.0,>=3.3.0 in c:\\iw\\python\\projects\\.virtualevns\\soweb\\lib\\site-packages (from dataclasses-json<0.6.0,>=0.5.2->python-twitter-v2) (3.18.0)\n",
      "Requirement already satisfied: marshmallow-enum<2.0.0,>=1.5.1 in c:\\iw\\python\\projects\\.virtualevns\\soweb\\lib\\site-packages (from dataclasses-json<0.6.0,>=0.5.2->python-twitter-v2) (1.5.1)\n",
      "Requirement already satisfied: certifi>=2017.4.17 in c:\\iw\\python\\projects\\.virtualevns\\soweb\\lib\\site-packages (from requests<3.0,>=2.24->python-twitter-v2) (2022.9.24)\n",
      "Requirement already satisfied: idna<4,>=2.5 in c:\\iw\\python\\projects\\.virtualevns\\soweb\\lib\\site-packages (from requests<3.0,>=2.24->python-twitter-v2) (3.4)\n",
      "Requirement already satisfied: charset-normalizer<3,>=2 in c:\\iw\\python\\projects\\.virtualevns\\soweb\\lib\\site-packages (from requests<3.0,>=2.24->python-twitter-v2) (2.1.1)\n",
      "Requirement already satisfied: urllib3<1.27,>=1.21.1 in c:\\iw\\python\\projects\\.virtualevns\\soweb\\lib\\site-packages (from requests<3.0,>=2.24->python-twitter-v2) (1.26.12)\n",
      "Requirement already satisfied: colorama in c:\\iw\\python\\projects\\.virtualevns\\soweb\\lib\\site-packages (from click->geocoder) (0.4.6)\n",
      "Requirement already satisfied: decorator in c:\\iw\\python\\projects\\.virtualevns\\soweb\\lib\\site-packages (from ratelim->geocoder) (5.1.1)\n",
      "Requirement already satisfied: mypy-extensions>=0.3.0 in c:\\iw\\python\\projects\\.virtualevns\\soweb\\lib\\site-packages (from typing-inspect>=0.4.0->dataclasses-json<0.6.0,>=0.5.2->python-twitter-v2) (0.4.3)\n",
      "Requirement already satisfied: typing-extensions>=3.7.4 in c:\\iw\\python\\projects\\.virtualevns\\soweb\\lib\\site-packages (from typing-inspect>=0.4.0->dataclasses-json<0.6.0,>=0.5.2->python-twitter-v2) (4.4.0)\n",
      "Requirement already satisfied: cffi>=1.12 in c:\\iw\\python\\projects\\.virtualevns\\soweb\\lib\\site-packages (from cryptography->Authlib<0.16.0,>=0.15.4->python-twitter-v2) (1.15.1)\n",
      "Requirement already satisfied: pycparser in c:\\iw\\python\\projects\\.virtualevns\\soweb\\lib\\site-packages (from cffi>=1.12->cryptography->Authlib<0.16.0,>=0.15.4->python-twitter-v2) (2.21)\n"
     ]
    }
   ],
   "source": [
    "# If you're using a virtualenv, make sure its activated before running \n",
    "# this cell!\n",
    "!pip install python-twitter-v2 PrettyTable matplotlib geocoder tweepy"
   ]
  },
  {
   "cell_type": "markdown",
   "metadata": {},
   "source": [
    "## Part 1: Authorizing an application to access Twitter account data:\n",
    "\n",
    "1. Make sure to add your mobile phone number to your private twitter profile.\n",
    "2. Go to https://developer.twitter.com/en/portal/dashboard and click on \"create an app\". Twitter will prompt you to create a *developer account*.\n",
    "3. You'll receive an *account confirmation* email with a link. Follow it and create an app. \n",
    "4. Once the app is created, you'll see a \"Keys and Token\" item on the top right tab of the webpage. These values will be needed to fill in the next cell.\n",
    "5. Please delete all your keys before submission.\n",
    "\n",
    "NOTE: This notebook is based on the API functionalities \"Essential\" license. Check the \"Academic Research\" license (right menu, \"Twitter API v2\", \"Academic Research\") if you need a broader set of functionalities.\n",
    "\n",
    "In this notebook, you can use the official Twitter V2 API:"
   ]
  },
  {
   "cell_type": "code",
   "execution_count": 77,
   "metadata": {},
   "outputs": [],
   "source": [
    "from pytwitter import Api \n",
    "\n",
    "TWITTER_API_KEY = \"kiykuL1dcrZaDBu87AJ6B6qYJ\"\n",
    "TWITTER_API_SECRET = \"e2jVRp2NYUASVnzPMoDlqSF1mCXg2sn2Wk5ji5m7wxaRwEa8B5\"\n",
    "# to get the oauth credential you need to click on the 'Generate access token' button:\n",
    "TWITTER_ACCESS_TOKEN = \"342328729-r299Soto2ws05aoFJGf5VF5W5WjuT9kiOexMQkIg\"\n",
    "TWITTER_ACCESS_SECRET = \"pPiRurJ0Qafakv6eukLh2RdFpyE8q0v1UpQVMPOLbrFjy\"\n",
    "\n",
    "api = Api(\n",
    "        consumer_key=TWITTER_API_KEY,\n",
    "        consumer_secret=TWITTER_API_SECRET,\n",
    "        access_token=TWITTER_ACCESS_TOKEN,\n",
    "        access_secret=TWITTER_ACCESS_SECRET\n",
    "    )\n"
   ]
  },
  {
   "cell_type": "markdown",
   "metadata": {},
   "source": [
    "or the Tweepy API:"
   ]
  },
  {
   "cell_type": "code",
   "execution_count": 78,
   "metadata": {},
   "outputs": [],
   "source": [
    "import tweepy\n",
    "\n",
    "auth = tweepy.OAuthHandler(TWITTER_API_KEY, TWITTER_API_SECRET)\n",
    "auth.set_access_token(TWITTER_ACCESS_TOKEN, TWITTER_ACCESS_SECRET)\n",
    "\n",
    "twapi = tweepy.API(auth)\n",
    "\n",
    "client = tweepy.Client(bearer_token=\"AAAAAAAAAAAAAAAAAAAAANsrjAEAAAAA2khjQ8naqwRDv71DnABFiWMFVt4%3DQUdWxiq7UoeqxvvqQHwZOpvL7sEM3rXusB0cs5dTV7MipoYlrH\")"
   ]
  },
  {
   "cell_type": "markdown",
   "metadata": {},
   "source": [
    "### 1.1: Retrieving twitter search trends [Only with Academic Research License]"
   ]
  },
  {
   "cell_type": "code",
   "execution_count": 79,
   "metadata": {},
   "outputs": [],
   "source": [
    "# import geocoder\n",
    "\n",
    "# loc = \"Amsterdam\"\n",
    "\n",
    "# g = geocoder.osm(loc)\n",
    "# closest_loc = twapi.closest_trends(g.lat, g.lng)\n",
    "# trends = twapi.get_place_trends(closest_loc[0][\"woeid\"])\n",
    "\n",
    "# print(trends[0][\"trends\"])\n"
   ]
  },
  {
   "cell_type": "markdown",
   "metadata": {},
   "source": [
    "### Task 1 [Only with Academic Research License]\n",
    "Twitter uses WOEIDs. Find out how WORLD_WOE_IDs were originally defined by Yahoo! and try to use others in a query. What kind of differences do you find between the worldwide trends and the local trends? \n"
   ]
  },
  {
   "cell_type": "code",
   "execution_count": 80,
   "metadata": {},
   "outputs": [],
   "source": [
    "# Your code here\n",
    "#\n",
    "#\n",
    "#\n",
    "#\n",
    "#"
   ]
  },
  {
   "cell_type": "markdown",
   "metadata": {},
   "source": [
    "### 1.2: Retrieving recent Tweets [Any license]"
   ]
  },
  {
   "cell_type": "code",
   "execution_count": 81,
   "metadata": {},
   "outputs": [
    {
     "name": "stdout",
     "output_type": "stream",
     "text": [
      "Response(data=[Tweet(id=1592183795218014208, text=RT @AlthaniSuhaim: اللهم حقق احلامه ومكنه من...), Tweet(id=1592183792508502016, text=RT @fifaworldcup_es: 🎙️ Señores pasajeros,...), Tweet(id=1592183787516993536, text=لقطات رياضية تابعو حسابي الاساسي @al_muhander...), Tweet(id=1592183782475431939, text=RT @la12tuittera: 6️⃣ días para #Qatar2022 🇦🇷...), Tweet(id=1592183782064689153, text=RT @FutboolFichajes: Así van llegando las...), Tweet(id=1592183776859258880, text=Check out my latest product:...), Tweet(id=1592183776444284931, text=#Qatar2022 #Deportes_EB #Video Comenzó el...), Tweet(id=1592183769859248128, text=RT @MarkThEwizz: From a boys dream to a man’s...), Tweet(id=1592183766101135360, text=RT @fifaworldcup_es: 🎙️ Señores pasajeros,...), Tweet(id=1592183764402475008, text=Check out my latest product:...)])\n"
     ]
    }
   ],
   "source": [
    "import pprint\n",
    "\n",
    "pp = pprint.PrettyPrinter(indent=4)\n",
    "\n",
    "q = '#qatar2022' # XXX: Set this variable to a trending topic, or anything else you like. \n",
    "search_results = api.search_tweets(q)\n",
    "\n",
    "# The following code allows you to print in a nice format the contents of search_results\n",
    "pprint.pprint(search_results, depth=1, width=60)"
   ]
  },
  {
   "cell_type": "markdown",
   "metadata": {},
   "source": [
    "### Task 2\n",
    "\n",
    "In the cell below, create a second variable (e.g. `statuses2`) that holds the results of a query other than the one presented above. Think about a query that would yield very different results than the first one, for example one that may yield a shorter output or about a different topic."
   ]
  },
  {
   "cell_type": "code",
   "execution_count": 82,
   "metadata": {},
   "outputs": [],
   "source": [
    "import pprint\n",
    "\n",
    "pp = pprint.PrettyPrinter(indent=4)\n",
    "\n",
    "q = '#qatar2022' # XXX: Set this variable to a trending topic, or anything else you like. \n",
    "\n",
    "# statuses2 = api.search_tweets(q)\n",
    "\n",
    "\n",
    "# search_results = client.search_all_tweets(q) \n",
    "statuses2 = twapi.home_timeline(count=100, include_entities=True)\n",
    "\n",
    "# The following code allows you to print in a nice format the contents of search_results\n",
    "# pprint.pprint(search_results, depth=1, width=1)#\n",
    "# print()"
   ]
  },
  {
   "cell_type": "markdown",
   "metadata": {},
   "source": [
    "## Part 2: Extracting text, screen names, and hashtags from tweets \n",
    "\n",
    "Simply printing all the search results to screen is nice, but to really start analysing them, it is handy to select the interesting parts and store them in a different structure such as a list. \n",
    "\n",
    "In this example you are using a thing called \"List Comprehension\".\n",
    "\n",
    "### 2.1 List Comprehensions\n",
    "List comprehension is a powerful construct that allows to succinctly build a list.\n",
    "With it you can process items from any iterable (e.g. dictionaries, lists, tuples, iterators...) and output a list while optionally performing an operation on each value.\n",
    "\n",
    "Here's a few examples from Mining the Social Web:"
   ]
  },
  {
   "cell_type": "code",
   "execution_count": 83,
   "metadata": {},
   "outputs": [
    {
     "name": "stdout",
     "output_type": "stream",
     "text": [
      "[0, 2, 4, 6, 8, 10, 12, 14, 16, 18]\n",
      "[1, 9, 25, 49, 81]\n",
      "['The', 'Social', 'Web']\n",
      "[3, 6, 3]\n",
      "[1, 2, 3, 4, 5, 6, 7, 8, 9]\n"
     ]
    }
   ],
   "source": [
    "# double all values from 0 to 9\n",
    "double_list = [i*2 for i in range(10)]\n",
    "\n",
    "# raise to the power of 2, but only if the number is uneven\n",
    "power_even_list = [i**2 for i in range(10) if i%2!=0]\n",
    "\n",
    "# clean strings in a tuple\n",
    "stripped_lines = [x.strip() for x in ('The\\n', 'Social\\n', 'Web\\n')]\n",
    "\n",
    "# return length of each string in stripped_lines\n",
    "len_str_lines = [len(s) for s in stripped_lines]\n",
    "\n",
    "# finally, we can nest list comprehensions to flatten a list of lists:\n",
    "list_of_lists = [[1, 2, 3], [4, 5, 6], [7, 8, 9]]\n",
    "range_9 = [x for y in list_of_lists for x in y]\n",
    "\n",
    "print(double_list)\n",
    "print(power_even_list)\n",
    "print(stripped_lines)\n",
    "print(len_str_lines)\n",
    "print(range_9)"
   ]
  },
  {
   "cell_type": "markdown",
   "metadata": {},
   "source": [
    "### 2.2 Parsing text, screen names and hashtags from tweets\n",
    "*(from Example 1-6 in Mining the Social Web)*\n",
    "\n",
    "Hereafter, we'll be creating a variable `status_texts` of type list. \\\n",
    "The list will be filled with the `text` elements from each `status`, whereas `status` comes from looping through all `statuses` in the `search_results` list (1.2). \\\n",
    "Look up the list comprehensions in your Python reference materials to make sure you understand what's happening here. "
   ]
  },
  {
   "cell_type": "code",
   "execution_count": 104,
   "metadata": {},
   "outputs": [
    {
     "name": "stdout",
     "output_type": "stream",
     "text": [
      "[\n",
      " \"RT @AlthaniSuhaim: \\u0627\\u0644\\u0644\\u0647\\u0645 \\u062d\\u0642\\u0642 \\u0627\\u062d\\u0644\\u0627\\u0645\\u0647 \\u0648\\u0645\\u0643\\u0646\\u0647 \\u0645\\u0646 \\u0625\\u0647\\u062f\\u0627\\u0641\\u0647 \\u0648\\u0625\\u0645\\u0646\\u064a\\u0627\\u062a\\u0647 \\n\\n#\\u0643\\u0623\\u0633_\\u0627\\u0644\\u0639\\u0627\\u0644\\u0645_2022 #\\u0645\\u0631\\u062d\\u0628\\u0627_\\u0628\\u0627\\u0644\\u062c\\u0645\\u064a\\u0639_\\u0641\\u064a_\\u062f\\u0648\\u062d\\u0629_\\u0627\\u0644\\u062c\\u0645\\u064a\\u0639 #\\u0642\\u0637\\u0631_\\u0645\\u062d\\u0644\\u0648\\u0629 #\\u0642\\u0637\\u0631_2022 #Qatar20\\u2026\",\n",
      " \"RT @fifaworldcup_es: \\ud83c\\udf99\\ufe0f Se\\u00f1ores pasajeros, bienvenidos al vuelo de la FIFA, con destino a #Qatar2022. \\u2708\\ufe0f \\ud83c\\udde6\\ud83c\\uddf7\\ud83c\\udde7\\ud83c\\uddf7\\ud83c\\uddea\\ud83c\\udde8\\ud83c\\uddfa\\ud83c\\uddfe\\n\\n\\u00a1Sudam\\u00e9rica est\\u00e1 lista p\\u2026\",\n",
      " \"\\u0644\\u0642\\u0637\\u0627\\u062a \\u0631\\u064a\\u0627\\u0636\\u064a\\u0629 \\n\\u062a\\u0627\\u0628\\u0639\\u0648 \\u062d\\u0633\\u0627\\u0628\\u064a \\u0627\\u0644\\u0627\\u0633\\u0627\\u0633\\u064a @al_muhander \\n#Qatar2022  \\n#\\u0623\\u0631\\u0634\\u064a\\u0641_\\u0627\\u0644\\u0645\\u0647\\u0646\\u062f\\u0631 https://t.co/gwQFU1S0T8\",\n",
      " \"RT @la12tuittera: 6\\ufe0f\\u20e3 d\\u00edas para #Qatar2022 \\ud83c\\udde6\\ud83c\\uddf7 https://t.co/MuQLF97V7v\",\n",
      " \"RT @FutboolFichajes: As\\u00ed van llegando las selecciones a #Qatar2022 \\ud83c\\udfc6\\ud83c\\uddf6\\ud83c\\udde6\\n\\n\\ud83d\\udcf9: @brfootball \\nhttps://t.co/8hhTJr3aqM\",\n",
      " \"Check out my latest product: https://t.co/L0smCLJW00 #mondaythoughts #MondayMotivation #PMSIDontWantToOverreactBUT #MondayMorning #EnchantedToMeetJAKE #WWERaw #YetToComeInBUSAN #GOLDEN #ONEPIECE1065 #bomba #UFC280 #T20Iworldcup2022 #ElClasico #Qatar2022 #Qatar #NBA #zimbabar\",\n",
      " \"#Qatar2022 #Deportes_EB #Video Comenz\\u00f3 el mundial: Argentina realiza su primer entrenamiento en Qatar\\n\\nAmpliamos: https://t.co/0kdjpWmObe\",\n",
      " \"RT @MarkThEwizz: From a boys dream to a man\\u2019s reality, same smile and all.\\n\\nThere\\u2019s no glory without sacrifice and for me there was no glor\\u2026\",\n",
      " \"RT @fifaworldcup_es: \\ud83c\\udf99\\ufe0f Se\\u00f1ores pasajeros, bienvenidos al vuelo de la FIFA, con destino a #Qatar2022. \\u2708\\ufe0f \\ud83c\\udde6\\ud83c\\uddf7\\ud83c\\udde7\\ud83c\\uddf7\\ud83c\\uddea\\ud83c\\udde8\\ud83c\\uddfa\\ud83c\\uddfe\\n\\n\\u00a1Sudam\\u00e9rica est\\u00e1 lista p\\u2026\",\n",
      " \"Check out my latest product: https://t.co/xT2AmxPXxj #mondaythoughts #MondayMotivation #PMSIDontWantToOverreactBUT #MondayMorning #EnchantedToMeetJAKE #WWERaw #YetToComeInBUSAN #GOLDEN #ONEPIECE1065 #bomba #UFC280 #T20Iworldcup2022 #ElClasico #Qatar2022 #Qatar #NBA #zimbabar\"\n",
      "]\n",
      "[\n",
      " \"RT\",\n",
      " \"@AlthaniSuhaim:\",\n",
      " \"\\u0627\\u0644\\u0644\\u0647\\u0645\",\n",
      " \"\\u062d\\u0642\\u0642\",\n",
      " \"\\u0627\\u062d\\u0644\\u0627\\u0645\\u0647\",\n",
      " \"\\u0648\\u0645\\u0643\\u0646\\u0647\",\n",
      " \"\\u0645\\u0646\",\n",
      " \"\\u0625\\u0647\\u062f\\u0627\\u0641\\u0647\",\n",
      " \"\\u0648\\u0625\\u0645\\u0646\\u064a\\u0627\\u062a\\u0647\",\n",
      " \"#\\u0643\\u0623\\u0633_\\u0627\\u0644\\u0639\\u0627\\u0644\\u0645_2022\",\n",
      " \"#\\u0645\\u0631\\u062d\\u0628\\u0627_\\u0628\\u0627\\u0644\\u062c\\u0645\\u064a\\u0639_\\u0641\\u064a_\\u062f\\u0648\\u062d\\u0629_\\u0627\\u0644\\u062c\\u0645\\u064a\\u0639\",\n",
      " \"#\\u0642\\u0637\\u0631_\\u0645\\u062d\\u0644\\u0648\\u0629\",\n",
      " \"#\\u0642\\u0637\\u0631_2022\",\n",
      " \"#Qatar20\\u2026\",\n",
      " \"RT\",\n",
      " \"@fifaworldcup_es:\",\n",
      " \"\\ud83c\\udf99\\ufe0f\",\n",
      " \"Se\\u00f1ores\",\n",
      " \"pasajeros,\",\n",
      " \"bienvenidos\",\n",
      " \"al\",\n",
      " \"vuelo\",\n",
      " \"de\",\n",
      " \"la\",\n",
      " \"FIFA,\",\n",
      " \"con\",\n",
      " \"destino\",\n",
      " \"a\",\n",
      " \"#Qatar2022.\",\n",
      " \"\\u2708\\ufe0f\",\n",
      " \"\\ud83c\\udde6\\ud83c\\uddf7\\ud83c\\udde7\\ud83c\\uddf7\\ud83c\\uddea\\ud83c\\udde8\\ud83c\\uddfa\\ud83c\\uddfe\",\n",
      " \"\\u00a1Sudam\\u00e9rica\",\n",
      " \"est\\u00e1\",\n",
      " \"lista\",\n",
      " \"p\\u2026\",\n",
      " \"\\u0644\\u0642\\u0637\\u0627\\u062a\",\n",
      " \"\\u0631\\u064a\\u0627\\u0636\\u064a\\u0629\",\n",
      " \"\\u062a\\u0627\\u0628\\u0639\\u0648\",\n",
      " \"\\u062d\\u0633\\u0627\\u0628\\u064a\",\n",
      " \"\\u0627\\u0644\\u0627\\u0633\\u0627\\u0633\\u064a\",\n",
      " \"@al_muhander\",\n",
      " \"#Qatar2022\",\n",
      " \"#\\u0623\\u0631\\u0634\\u064a\\u0641_\\u0627\\u0644\\u0645\\u0647\\u0646\\u062f\\u0631\",\n",
      " \"https://t.co/gwQFU1S0T8\",\n",
      " \"RT\",\n",
      " \"@la12tuittera:\",\n",
      " \"6\\ufe0f\\u20e3\",\n",
      " \"d\\u00edas\",\n",
      " \"para\",\n",
      " \"#Qatar2022\",\n",
      " \"\\ud83c\\udde6\\ud83c\\uddf7\",\n",
      " \"https://t.co/MuQLF97V7v\",\n",
      " \"RT\",\n",
      " \"@FutboolFichajes:\",\n",
      " \"As\\u00ed\",\n",
      " \"van\",\n",
      " \"llegando\",\n",
      " \"las\",\n",
      " \"selecciones\",\n",
      " \"a\",\n",
      " \"#Qatar2022\",\n",
      " \"\\ud83c\\udfc6\\ud83c\\uddf6\\ud83c\\udde6\",\n",
      " \"\\ud83d\\udcf9:\",\n",
      " \"@brfootball\",\n",
      " \"https://t.co/8hhTJr3aqM\",\n",
      " \"Check\",\n",
      " \"out\",\n",
      " \"my\",\n",
      " \"latest\",\n",
      " \"product:\",\n",
      " \"https://t.co/L0smCLJW00\",\n",
      " \"#mondaythoughts\",\n",
      " \"#MondayMotivation\",\n",
      " \"#PMSIDontWantToOverreactBUT\",\n",
      " \"#MondayMorning\",\n",
      " \"#EnchantedToMeetJAKE\",\n",
      " \"#WWERaw\",\n",
      " \"#YetToComeInBUSAN\",\n",
      " \"#GOLDEN\",\n",
      " \"#ONEPIECE1065\",\n",
      " \"#bomba\",\n",
      " \"#UFC280\",\n",
      " \"#T20Iworldcup2022\",\n",
      " \"#ElClasico\",\n",
      " \"#Qatar2022\",\n",
      " \"#Qatar\",\n",
      " \"#NBA\",\n",
      " \"#zimbabar\",\n",
      " \"#Qatar2022\",\n",
      " \"#Deportes_EB\",\n",
      " \"#Video\",\n",
      " \"Comenz\\u00f3\",\n",
      " \"el\",\n",
      " \"mundial:\",\n",
      " \"Argentina\",\n",
      " \"realiza\",\n",
      " \"su\",\n",
      " \"primer\",\n",
      " \"entrenamiento\",\n",
      " \"en\",\n",
      " \"Qatar\",\n",
      " \"Ampliamos:\",\n",
      " \"https://t.co/0kdjpWmObe\",\n",
      " \"RT\",\n",
      " \"@MarkThEwizz:\",\n",
      " \"From\",\n",
      " \"a\",\n",
      " \"boys\",\n",
      " \"dream\",\n",
      " \"to\",\n",
      " \"a\",\n",
      " \"man\\u2019s\",\n",
      " \"reality,\",\n",
      " \"same\",\n",
      " \"smile\",\n",
      " \"and\",\n",
      " \"all.\",\n",
      " \"There\\u2019s\",\n",
      " \"no\",\n",
      " \"glory\",\n",
      " \"without\",\n",
      " \"sacrifice\",\n",
      " \"and\",\n",
      " \"for\",\n",
      " \"me\",\n",
      " \"there\",\n",
      " \"was\",\n",
      " \"no\",\n",
      " \"glor\\u2026\",\n",
      " \"RT\",\n",
      " \"@fifaworldcup_es:\",\n",
      " \"\\ud83c\\udf99\\ufe0f\",\n",
      " \"Se\\u00f1ores\",\n",
      " \"pasajeros,\",\n",
      " \"bienvenidos\",\n",
      " \"al\",\n",
      " \"vuelo\",\n",
      " \"de\",\n",
      " \"la\",\n",
      " \"FIFA,\",\n",
      " \"con\",\n",
      " \"destino\",\n",
      " \"a\",\n",
      " \"#Qatar2022.\",\n",
      " \"\\u2708\\ufe0f\",\n",
      " \"\\ud83c\\udde6\\ud83c\\uddf7\\ud83c\\udde7\\ud83c\\uddf7\\ud83c\\uddea\\ud83c\\udde8\\ud83c\\uddfa\\ud83c\\uddfe\",\n",
      " \"\\u00a1Sudam\\u00e9rica\",\n",
      " \"est\\u00e1\",\n",
      " \"lista\",\n",
      " \"p\\u2026\",\n",
      " \"Check\",\n",
      " \"out\",\n",
      " \"my\",\n",
      " \"latest\",\n",
      " \"product:\",\n",
      " \"https://t.co/xT2AmxPXxj\",\n",
      " \"#mondaythoughts\",\n",
      " \"#MondayMotivation\",\n",
      " \"#PMSIDontWantToOverreactBUT\",\n",
      " \"#MondayMorning\",\n",
      " \"#EnchantedToMeetJAKE\",\n",
      " \"#WWERaw\",\n",
      " \"#YetToComeInBUSAN\",\n",
      " \"#GOLDEN\",\n",
      " \"#ONEPIECE1065\",\n",
      " \"#bomba\",\n",
      " \"#UFC280\",\n",
      " \"#T20Iworldcup2022\",\n",
      " \"#ElClasico\",\n",
      " \"#Qatar2022\",\n",
      " \"#Qatar\",\n",
      " \"#NBA\",\n",
      " \"#zimbabar\"\n",
      "]\n"
     ]
    }
   ],
   "source": [
    "import json\n",
    "status_texts = [ search_result.id for search_result in search_results.data ]\n",
    "# the escape character \"\\\" allows for the list comprehension to continue\n",
    "# on a new line. While not strictly necessary, it makes code more readable\n",
    "# for your fellow programmers.\n",
    "\n",
    "status_texts = [ search_result.text for search_result in search_results.data ]\n",
    "\n",
    "#hashtags = [ hashtag['text'] for status in statuses \\\n",
    "#        for hashtag in status['entities']['hashtags'] ]\n",
    "\n",
    "# Compute a collection of all words from all tweets\n",
    "words = [ w for t in status_texts for w in t.split() ] #split the string on the empty spaces\n",
    "\n",
    "# Explore the first 5 items for each...\n",
    "print(json.dumps(status_texts, indent=1))\n",
    "print(json.dumps(words, indent=1))"
   ]
  },
  {
   "cell_type": "markdown",
   "metadata": {},
   "source": [
    "### Task 3\n",
    "\n",
    "You are now ready to parse usernames, hashtags and text from the results you previously obtained in Task 2 (e.g. `statuses_2`). While doing it, make sure to leave the variables created in 2.2 untouched. Instead, create your own variable names, which you'll be using soon.\n"
   ]
  },
  {
   "cell_type": "code",
   "execution_count": 101,
   "metadata": {},
   "outputs": [
    {
     "name": "stdout",
     "output_type": "stream",
     "text": [
      "['eneko98', 'eldiarioes', 'JRhodesPianist', 'eldiarioes', 'IzquierdaUnida', 'archillect', 'eldiarioes', 'MultiversoTM', '2010MisterChip', 'eldiarioes', 'DigitalTrendsEs', 'Goyojimenez', 'anse_96maniako', 'anse_96maniako', 'eldiarioes', 'anse_96maniako', 'eneko98', 'eldiarioes', 'MultiversoTM', 'archillect', 'canaltcm', 'DayoScript', 'eldiarioes', 'eneko98', 'desdemanhattan', 'alo_oficial', 'eldiarioes', 'quiquepeinado', 'DigitalTrendsEs', 'DigitalTrendsEs', 'elmundotoday', 'eldiarioes', 'yisucrist', 'archillect', 'MagicMundi', 'MultiversoTM', 'eldiarioes', 'DigitalTrendsEs', 'pixitaa_', 'eldiarioes', 'deusto', '2010MisterChip', 'eldiarioes', '2010MisterChip', 'DigitalTrendsEs', 'DigitalTrendsEs', 'DigitalTrendsEs', 'eldiarioes', 'VancityReynolds', 'eldiarioes', 'eldiarioes', 'archillect', 'canaltcm', 'LaResistencia', 'levmauc', 'eldiarioes', 'DigitalTrendsEs', 'IzquierdaUnida', 'eldiarioes', 'IzquierdaUnida', 'IzquierdaUnida', 'IzquierdaUnida', 'IzquierdaUnida', 'IzquierdaUnida', 'eldiarioes', 'DigitalTrendsEs', 'DigitalTrendsEs', 'DigitalTrendsEs', 'elmundotoday', 'MultiversoTM', 'archillect', 'eldiarioes', 'eneko98', 'eneko98', 'eldiarioes', 'desdemanhattan', 'paugasol', 'DigitalTrendsEs', 'canteradelezama', 'canteradelezama', 'IzquierdaUnida', 'eldiarioes', 'personaandando', 'jaimealtozano', 'IbaiLlanos', 'DayoScript', 'eldiarioes', 'eldiarioes', 'archillect', 'canaltcm', 'eldiarioes', 'MultiversoTM', 'eldiarioes', 'quiquepeinado', 'eldiarioes', 'Migue_twitt', 'eldiarioes', 'eldiarioes']\n",
      "['MadridSeLevantaEl13', 'HUMOR', 'Iraq', 'ElonMusk', 'SpaceX', 'TheMandalorian', 'SemanaDeustoEmprende2022', 'Luna', 'Photoshop', 'gratis', 'Yellowstone', 'exoplanetas', 'PERO', 'Basauri', 'supernova', 'MacMini', 'VeryLargeTelescope', 'NASA']\n",
      "['RT @InternetH0F: https://t.co/wnTrLlXpKs', \"OPINIÓN | El negacionismo comenzó con el 'Prestige'\\n\\n✍🏼 Por @Rivasbarrs\\nhttps://t.co/altrZlRk0M\", 'Otra cuenta bloqueada (@InotAragrev) por romper las reglas de Twitter y decir que me dieron la nacionalidad \"por un… https://t.co/vs6QOLw5Ps', 'El PSOE avala la actuación de Interior en Melilla pese al varapalo del Defensor del Pueblo y aguarda a la Fiscalía… https://t.co/c7YCGwOnBm', 'RT @IU_Madrid: 👉🏻 En la histórica manifestación #MadridSeLevantaEl13 de ayer, nuestra diputada @VaneLillo en su comparecencia ante los medi…', 'https://t.co/LpflOr6S5I', \"'Tocilandia' asedia El Frago: una macrogranja pretende consumir diez veces más agua que sus vecinos… https://t.co/e1QlHO6b3D\", 'OFERTAZA PAMPLING\\n\\n¡ULTIMAS HORAS!\\n\\n- Todas las CAMISETAS a 11,11 €\\n- Calcetines a elegir GRATIS\\n- Calcetines sorpr… https://t.co/ParRtcautn', 'Salvo que México y Ecuador nos sorprendan con una superproducción hollywoodiense, cosa que justificaría esta interm… https://t.co/EanRgWGKsI', 'PERFIL | Reyes Maroto, la negociadora de perfil bajo que pasó de las quinielas a la candidatura a alcaldesa de Madr… https://t.co/YxQRKKGeME', 'Cómo instalar la Alexa en tu teléfono y usar todas y cada una de sus funciones y características. ¡Es fácil! https://t.co/jBEB5rFPDh', 'RT @MasDeUno: #HUMOR | Entrevistamos a Gandhi, que nos habla de su pacifismo a mano abierta: \"Una hostia a tiempo, y no hay más lamento\"…', 'RT @tito6171: @ElHuffPost https://t.co/JBIl2mfTqx', 'RT @64bd6e05b7f1445: @ElHuffPost \"DESDE QUE NO NOS MATAN NO TENEMOS PROYECTO\"\\n\\n@populares @IdiazAyuso vuelve a usar/reivindicar a ETA polít…', 'Marlaska rechaza la invitación del Parlamento Europeo para hablar de las muertes en la valla de Melilla… https://t.co/tbFClWO8lz', 'RT @Bat_wittero: @ElHuffPost https://t.co/UR7tX7PpXF', 'RT @timand2037: Remember US human rights and democracy in #Iraq,  2004? https://t.co/rTuFr2QgfT', \"Nadia Hafid, autora del cómic 'Chacales': “La terapia individual es necesaria, pero debemos replantear lo colectivo… https://t.co/JE4Pxg97bR\", 'Solo puedes salvar a una. El resto nunca han existido ni existirán. \\n\\n¿Cuál elijes?\\n\\nhttps://t.co/EGKJkTd1Y6', 'https://t.co/TrujXYn3yS', 'Come here! Te esperamos con los brazos abiertos.\\n\\n🎬 LOS PROFESIONALES→ 16:20\\n🎬 DIARIOS DE MOTOCICLETA→ 18:15\\n🎬 EL D… https://t.co/uZRibPF5LO', 'Id pillando asiento, que en un rato le vamos a dar @KarmaDocLP @EricRod_LYV y servidor a Pokémon: Legends of Sinnoh… https://t.co/IpgzLJrMpC', 'VÍDEO | Zelenski visita Jersón tras la retirada de las tropas rusas y habla al ejército ucraniano: “Estamos avanzan… https://t.co/5lN8tq1j1A', 'RT @AlsDodds: The Basque language has always been surrounded by mystery with regards to its origin. Today, there has been a massive breakth…', '¿Por qué se tarda tanto en saber el resultado final en la Cámara de Representantes si los republicanos siguen claro… https://t.co/6a3pbMUjsX', '2022 👍 https://t.co/M8ChHLlhLp', 'El eco en los medios internacionales de la protesta multitudinaria por la sanidad pública en Madrid\\nhttps://t.co/2rLBeWOAvZ', 'Cuando decíamos que la libertad solo era para unos cuantos, no nos equivocábamos. https://t.co/I85YXgZ2Pk', 'El fundador de Amazon quiere \"apoyar a las personas que pueden unificar a la humanidad\" https://t.co/0qrZ27C0mk', 'El negocio aeroespacial de #ElonMusk, #SpaceX, acaba de ordenar uno de los paquetes publicitarios más grandes dispo… https://t.co/K0DI3XykPP', 'Asaltan el chalé de un millonario y lo torturan para que les cuente el secreto para triunfar en la vida:… https://t.co/2W3PSU6jzC', 'Las abejas domésticas criadas en cautividad viven la mitad que hace 50 años\\nhttps://t.co/fNrExlXx7b', 'me representa tanto https://t.co/71ZtnLkbLR', 'https://t.co/RVGkx0RkLO', 'El mejor día de su vida https://t.co/zkBh7jmHbw', '¡¡ SORTEAMOS UN BABY YODA A TAMAÑO REAL !!\\n\\n¿ Has participado ya ?\\n\\n¡Suerte!\\n\\nhttps://t.co/E9siP66oU0', '🚝 Hazte socio/a de https://t.co/xBXCYwJsok y viaja gratis con Renfe este otoño \\n\\n¡Unidades limitadas!… https://t.co/e0GGQJAZTr', 'Sin embargo, no esperes encontrar adelantos de la tercera temporada de #TheMandalorian https://t.co/j59M8pcIgZ', 'https://t.co/NJe98OpLy7', 'El hallazgo de las inscripciones más antiguas en lengua vascónica revoluciona las investigaciones sobre el euskera\\nhttps://t.co/ShXNc2irXH', 'RT @deustoEmprende: ¡Empieza la #SemanaDeustoEmprende2022 en @deusto! 🚀\\n\\nUn mural colaborativo, un pop-up market de un proyecto #emprendedo…', 'RT @OndaCero_es: 📊⚽ @2010MisterChip analiza el grupo F del Mundial de Qatar 2022 que componen Bélgica, Croacia, Canadá y Marruecos\\n\\n🇧🇪🇭🇷 Bé…', 'Primera condena por los altercados de Tsunami Democràtic en el Aeropuerto de Barcelona \\nhttps://t.co/lH2mtq5ZRi', 'Ya solo faltan dos. @miseleccionmx y @LaTri serán las últimas. https://t.co/SmHKZmyjcV', 'Con este logro la opción de colonizar la #Luna tiene buenísimas opciones https://t.co/DZa6CvCCVp', 'A estas alturas todo el mundo sabe que #Photoshop no es un programa barato, aunque aún puedes usarlo #gratis. https://t.co/pbj8Ow4fny', '#Yellowstone sigue a la familia Dutton, así como a la política interna entre los diferentes terratenientes https://t.co/lEtOcXiLle', 'Más Madrid acude al Defensor del Pueblo para que ponga fin “al caos” en la Sanidad Pública de la capital… https://t.co/mWr8AJT2vn', 'I believe this might be called re-gifting? https://t.co/EzuuAjRMkP', 'La CNMC advierte del efecto de las ayudas del Gobierno en la competencia del mercado del gas\\nhttps://t.co/bBuiS0YeaR Informa @unvelez', 'Más País anuncia una enmienda para que la reforma del delito de sedición no “criminalice” las protestas sociales… https://t.co/rOE9AZThsN', 'https://t.co/ogYi1AuMTb', 'Claudia Cardinale en 🎬 LOS PROFESIONALES (16:20 en TCM).\\n\\n❤️❤️❤️ https://t.co/55vwWpqRpO', 'La última vez que vino @DafneKeen aún iba al pediatra (eso decía ella) y casi la lesionamos saltando a la comba. Lo… https://t.co/44fv80bR73', 'NETFLIX estrena en 3 días la película THE WONDER, un thriller psicológico sobre una enfermera en la Irlanda de 1850… https://t.co/APj1YPt4rz', 'Barcelona aprovechará el frío residual de la industria y lo usará para climatizar edificios en una área de 15.000 m… https://t.co/2iCxF4BpIU', 'Este método de búsqueda de #exoplanetas es particularmente bueno para detectar planetas más grandes https://t.co/0iWNCux8wI', 'RT @elpce: \"Sorprende la absoluta falta de motivación del auto judicial: ni menciona  qué daño causa ni qué derecho afecta\".\\n\\n\"Quienes se r…', 'La policía desarticula en Albania una red que estafó con criptomonedas falsas a más de 17.000 españoles\\nhttps://t.co/J8Z8nKwv0U', 'RT @Toni_Valero: Moreno Bonilla y Ayuso recurrirán al Constitucional el Impuesto de Solidaridad a las grandes fortunas. \\n\\nMientras destroza…', 'RT @IU_Madrid: 📸 Hoy, @consumogob la presenta la campaña #PERO contra la ludopatía.\\n \\nNuestro coordinador @AlvaroAgFa junto a @desdelacante…', 'RT @iuandalucia: 💰 Los datos y medidas que sitúan a Moreno Bonilla en la estela de la privatización sanitaria de Ayuso https://t.co/Xf5SY2D…', 'RT @iuandalucia: Los trabajadores y trabajadoras de @Trab_Zumosol llevan mucho tiempo en lucha reclamando sus derechos. Esta noticia no nos…', 'RT @EzkerAnitzaIU: Quieren echar de su casa de #Basauri a Marisol y su hija menor de edad.\\n\\nHoy nos hemos movilizado para intentar detener…', 'El PP se suma a la campaña de Vox en Bruselas contra el sello conmemorativo del centenario del PCE… https://t.co/ftLJ92uJnz', '\"Es bastante raro que una #supernova pueda detectarse en una etapa muy temprana\" https://t.co/sAEdfoV9EO', 'En su proyecto, procedió a desmontar un #MacMini, básicamente manteniendo la placa lógica https://t.co/ILToc3eeWN', 'Una impresionante imagen de una nebulosa distante ha sido tomada usando el #VeryLargeTelescope https://t.co/xmEIuRY664', 'RT @KuATouyeah: A 25 pulsaciones por minuto, en reposo, en la redacción de El Mundo Today.', 'OFERTAZA PAMPLING\\n\\n¡ULTIMAS HORAS!\\n\\n- Todas las CAMISETAS a 11,11 €\\n- Calcetines a elegir GRATIS\\n- Calcetines sorpr… https://t.co/tKhO3BwRr9', 'https://t.co/TNwTCq8adP', 'El BCE pide medidas económicas y fiscales que contrarresten sus “agresivas” subidas de tipos de interés… https://t.co/yY5ZUjQOBh', 'Hidratado jajaja https://t.co/sAziSNCQ8N', 'Ayuso vive en un mundo completamente aparte de la realidad, habla y sube el pan xdddd', 'Feijóo aleja la opción de una moción de censura y pide no “combatir el radicalismo con más radicalismo”… https://t.co/qO8JdCAUVW', 'Hoy en las noticias: una vez confirmada la mayoría demócrata en el Senado, es muy probable que hoy se sepa el resul… https://t.co/l5HqLD4yie', '@alo_oficial Menudo carrerón, Fernando!! 👏🏻🎩', 'Esta semana, la #NASA lanzó un nuevo satélite meteorológico, JPSS-2 https://t.co/efG0amiRgL', 'RT @AthleticClub: 🎙️ @Williaaams45, ante su primera Copa del Mundo 🌎 \\n\\n\"Qué mejor manera de representar al Athletic que en un Mundial\"\\n\\n\"El…', 'RT @AthleticClub: ❤️ De Lezama al Mundial 🌍\\n\\nIñaki Williams, Nico Williams y Unai Simón representarán al Athletic Club en el Mundial de Qat…', \"RT @sumar: ❗️ València, ens veiem aquest dissabte 19 de novembre! \\n\\nEl procés d'escolta continua avançant. T'esperem a partir de les 11.30h…\", '✍🏼 \"¿Crees que vivimos una emergencia climática? Comunista. ¿Quieres franquear cartas con un sello del centenario d… https://t.co/1YjfC9QDPk', 'https://t.co/l0Q2j9CmFx', 'Estamos haciendo el sorteo más grande de la historia del canal!\\n\\nTodo el set-up de un home studio 🏠🎙️\\n\\ntratamiento… https://t.co/JfVipndcDq', 'Cuando soñaba con tener mi propio equipo también soñaba con el día de jugar nuestra primera final presencial.\\n\\nHoy… https://t.co/RS5sEsyBaM', 'Hoy es lunes, y eso es triste, pero descuidad, que ya tenéis el podcast de Tales of the Jedi con @carloslucassw aqu… https://t.co/vchLLJomue', 'Milans del Bosch, el exteniente general “doblemente golpista” enterrado en el Alcázar de Toledo en democracia… https://t.co/WFlolI25jJ', 'Ayuso recurre a Miguel Ángel Blanco para atacar a Sánchez: “Para entender lo que ocurre hoy en nuestra nación hay q… https://t.co/5VxG9bgrXn', 'https://t.co/qhlBajj7HC', '🎬 BAILANDO CON LOBOS→ disponible en TCM Now https://t.co/Oa0sZDDKAi', 'Multa de 10,2 millones al laboratorio Leadiant por vender demasiado caro un fármaco para una enfermedad rara\\nhttps://t.co/ArBC5c5Gxo', 'Se cumplen 5 años de otra de las tantas escenas épicas de “Juego de Tronos”. Eran buenos tiempos.\\n\\n https://t.co/yV0ej2psp1', 'Más Madrid acude al Defensor del Pueblo para que ponga fin “al caos” en la Sanidad Pública de la capital\\nhttps://t.co/ZeTSOk7US7', 'RT @NelsonMonPi: Estoy escuchando en @AlRojoVivo que la AP es la entrada al sistema sanitario. Eso no es cierto, es EL sistema sanitario y…', 'Paseo por los horrores de las meninas-anuncio de Madrid más cuestionadas\\nhttps://t.co/qmgbFbVdJi Informa @esmadriz en @_somosmadrid', 'Era la primera vez que iba a una sala de este tipo y reconozco que la experiencia es mejor de lo que me esperaba.… https://t.co/1Gkk0VhVce', 'Arrimadas insiste en pedir al PP que presente una moción de censura contra Sánchez\\nhttps://t.co/cNlUoEgVxK Lo cuenta @carmoraga', 'El legado de Adriana Garosci: el hilo que une a las faeneras malagueñas con los partisanos antifascistas… https://t.co/CqMpxDPqeU']\n"
     ]
    }
   ],
   "source": [
    "usernames = [ status.user.screen_name for status in statuses2 ] \n",
    "hashtags = [ hashtag[\"text\"] for status in statuses2 for hashtag in status.entities['hashtags']]\n",
    "text = [ status.text for status in statuses2 ]\n",
    "words_ander = [word  for status in statuses2 for word in status.text.split()]\n",
    "print(usernames)\n",
    "print(hashtags)\n",
    "print(text)"
   ]
  },
  {
   "cell_type": "markdown",
   "metadata": {},
   "source": [
    "## Part 3: Creating a basic frequency distribution from words in tweets\n",
    "*(from Examples 1-7 in Mining the Social Web)* \n",
    "\n",
    "\n",
    "In the cell below we display the 10 most common hashtag instances:"
   ]
  },
  {
   "cell_type": "code",
   "execution_count": 102,
   "metadata": {},
   "outputs": [
    {
     "name": "stdout",
     "output_type": "stream",
     "text": [
      "[('de', 74), ('la', 52), ('en', 41), ('a', 33), ('que', 32), ('y', 25), ('el', 24), ('RT', 21), ('del', 19), ('las', 17)]\n"
     ]
    }
   ],
   "source": [
    "from collections import Counter\n",
    "\n",
    "for item in [words_ander]:\n",
    "    c = Counter(item)\n",
    "    \n",
    "print(c.most_common()[:10]) # top 10"
   ]
  },
  {
   "cell_type": "markdown",
   "metadata": {},
   "source": [
    "Your output should look something like this: \\\n",
    "`[('ThrowbackThursday', 34), ('throwbackthursday', 11), ('TBT', 6), ('ThrowBackThursday', 6), ('Trivia', 3), ('madoka_magica', 2), ('New', 2), ('EURO2020', 2), ('artists', 2)]`\n",
    "\n",
    "### Task 4\n",
    "Show hashtags frequency for results that you obtained in Task 3. Think about possible explanations for the different results you get from the analyses for the different queries.\n"
   ]
  },
  {
   "cell_type": "code",
   "execution_count": 87,
   "metadata": {},
   "outputs": [
    {
     "name": "stdout",
     "output_type": "stream",
     "text": [
      "[('MadridSeLevantaEl13', 1), ('HUMOR', 1), ('Iraq', 1), ('ElonMusk', 1), ('SpaceX', 1), ('TheMandalorian', 1), ('SemanaDeustoEmprende2022', 1), ('Luna', 1), ('Photoshop', 1), ('gratis', 1)]\n"
     ]
    }
   ],
   "source": [
    "c = Counter(hashtags)\n",
    "    \n",
    "print(c.most_common()[:10]) # top 10"
   ]
  },
  {
   "cell_type": "markdown",
   "metadata": {},
   "source": [
    "### 3.1 Storing your results\n",
    "So far, we have been storing the data in working memory. Often it's handy to store your data to disk so you can retrieve it in a next session. \n",
    "\n",
    "The pickle module lets you do exactly that, by serializing data in a binary format.\n"
   ]
  },
  {
   "cell_type": "code",
   "execution_count": 88,
   "metadata": {},
   "outputs": [],
   "source": [
    "import pickle\n",
    "\n",
    "filepath = \"my_data.pickle\"\n",
    "# this indented python syntax is broadly defined as \"context manager\".\n",
    "# This means that everything happening under its indentation will use f\n",
    "# as file handle to filepath. The Shortand `wb` stands for \"write binary\",\n",
    "# which is how we serialize data to disk.\n",
    "with open(filepath, \"wb\") as f:\n",
    "    pickle.dump(words, f) # write the contents of list 'words' to file 'f'\n",
    "    \n",
    "# Note that, after the end of the indented block, the file is automatically closed.\n",
    "# Hence, no memory resource on your system is wasted idly."
   ]
  },
  {
   "cell_type": "markdown",
   "metadata": {},
   "source": [
    "If you browse to your working directory, you should find a file there named \"myData.pickle\". You can open this in a text editor, or load its contents back into a variable to do some more analyses on.\n"
   ]
  },
  {
   "cell_type": "code",
   "execution_count": 89,
   "metadata": {},
   "outputs": [
    {
     "name": "stdout",
     "output_type": "stream",
     "text": [
      "['RT', '@AlthaniSuhaim:', 'اللهم', 'حقق', 'احلامه', 'ومكنه', 'من', 'إهدافه', 'وإمنياته', '#كأس_العالم_2022', '#مرحبا_بالجميع_في_دوحة_الجميع', '#قطر_محلوة', '#قطر_2022', '#Qatar20…', 'RT', '@fifaworldcup_es:', '🎙️', 'Señores', 'pasajeros,', 'bienvenidos', 'al', 'vuelo', 'de', 'la', 'FIFA,', 'con', 'destino', 'a', '#Qatar2022.', '✈️', '🇦🇷🇧🇷🇪🇨🇺🇾', '¡Sudamérica', 'está', 'lista', 'p…', 'لقطات', 'رياضية', 'تابعو', 'حسابي', 'الاساسي', '@al_muhander', '#Qatar2022', '#أرشيف_المهندر', 'https://t.co/gwQFU1S0T8', 'RT', '@la12tuittera:', '6️⃣', 'días', 'para', '#Qatar2022', '🇦🇷', 'https://t.co/MuQLF97V7v', 'RT', '@FutboolFichajes:', 'Así', 'van', 'llegando', 'las', 'selecciones', 'a', '#Qatar2022', '🏆🇶🇦', '📹:', '@brfootball', 'https://t.co/8hhTJr3aqM', 'Check', 'out', 'my', 'latest', 'product:', 'https://t.co/L0smCLJW00', '#mondaythoughts', '#MondayMotivation', '#PMSIDontWantToOverreactBUT', '#MondayMorning', '#EnchantedToMeetJAKE', '#WWERaw', '#YetToComeInBUSAN', '#GOLDEN', '#ONEPIECE1065', '#bomba', '#UFC280', '#T20Iworldcup2022', '#ElClasico', '#Qatar2022', '#Qatar', '#NBA', '#zimbabar', '#Qatar2022', '#Deportes_EB', '#Video', 'Comenzó', 'el', 'mundial:', 'Argentina', 'realiza', 'su', 'primer', 'entrenamiento', 'en', 'Qatar', 'Ampliamos:', 'https://t.co/0kdjpWmObe', 'RT', '@MarkThEwizz:', 'From', 'a', 'boys', 'dream', 'to', 'a', 'man’s', 'reality,', 'same', 'smile', 'and', 'all.', 'There’s', 'no', 'glory', 'without', 'sacrifice', 'and', 'for', 'me', 'there', 'was', 'no', 'glor…', 'RT', '@fifaworldcup_es:', '🎙️', 'Señores', 'pasajeros,', 'bienvenidos', 'al', 'vuelo', 'de', 'la', 'FIFA,', 'con', 'destino', 'a', '#Qatar2022.', '✈️', '🇦🇷🇧🇷🇪🇨🇺🇾', '¡Sudamérica', 'está', 'lista', 'p…', 'Check', 'out', 'my', 'latest', 'product:', 'https://t.co/xT2AmxPXxj', '#mondaythoughts', '#MondayMotivation', '#PMSIDontWantToOverreactBUT', '#MondayMorning', '#EnchantedToMeetJAKE', '#WWERaw', '#YetToComeInBUSAN', '#GOLDEN', '#ONEPIECE1065', '#bomba', '#UFC280', '#T20Iworldcup2022', '#ElClasico', '#Qatar2022', '#Qatar', '#NBA', '#zimbabar']\n"
     ]
    }
   ],
   "source": [
    "# open the myData.pickle file and store its contents into variable 'words'\n",
    "\n",
    "with open(filepath, \"rb\") as f:\n",
    "    words = pickle.load(f)\n",
    "print(words)"
   ]
  },
  {
   "cell_type": "markdown",
   "metadata": {},
   "source": [
    "### 3.2 Using prettytable to display tuples in a nice way\n",
    "\n"
   ]
  },
  {
   "cell_type": "code",
   "execution_count": 90,
   "metadata": {},
   "outputs": [
    {
     "name": "stdout",
     "output_type": "stream",
     "text": [
      "+-------------------+-------+\n",
      "| Words             | Count |\n",
      "+-------------------+-------+\n",
      "| RT                |     6 |\n",
      "| #Qatar2022        |     6 |\n",
      "| a                 |     5 |\n",
      "| @fifaworldcup_es: |     2 |\n",
      "| 🎙️                 |     2 |\n",
      "| Señores           |     2 |\n",
      "| pasajeros,        |     2 |\n",
      "| bienvenidos       |     2 |\n",
      "| al                |     2 |\n",
      "| vuelo             |     2 |\n",
      "+-------------------+-------+\n"
     ]
    }
   ],
   "source": [
    "from prettytable import PrettyTable\n",
    "\n",
    "\n",
    "pt = PrettyTable(field_names=['Words', 'Count'])\n",
    "c = Counter(words)\n",
    "[ pt.add_row(kv) for kv in c.most_common()[:10] ]\n",
    "pt.align[\"Words\"], pt.align['Count'] = 'l', 'r' # Set column alignment\n",
    "print(pt) "
   ]
  },
  {
   "cell_type": "markdown",
   "metadata": {},
   "source": [
    "### 3.3 Calculating lexical diversity for tweets \n",
    "*(from Example 1-9 in Mining the Social Web)*:"
   ]
  },
  {
   "cell_type": "code",
   "execution_count": 112,
   "metadata": {},
   "outputs": [
    {
     "name": "stdout",
     "output_type": "stream",
     "text": [
      "Lexical diversity: %s 0.6763005780346821\n",
      "Average words per tweet: %s 17.3\n"
     ]
    }
   ],
   "source": [
    "# Define a function for computing lexical diversity\n",
    "def lexical_diversity(tokens):\n",
    "    return 1.0*len(set(tokens))/len(tokens)\n",
    "\n",
    "# Define a function for computing the average number of words per tweet\n",
    "def average_words(statuses):\n",
    "    total_words = sum([ len(s.split()) for s in status_texts ])\n",
    "    \n",
    "    return 1.0*total_words/len(status_texts) \n",
    "\n",
    "# Let's use these functions:\n",
    "\n",
    "\n",
    "\n",
    "print(\"Lexical diversity: \", lexical_diversity(words))\n",
    "print(\"Average words per tweet: \", average_words(words))"
   ]
  },
  {
   "cell_type": "markdown",
   "metadata": {},
   "source": [
    "### Task 5: What do the printed numbers indicate? Try to explain them.\n",
    "\n",
    "__Lexical diversity__ describes how many unique words(types) are used in a set of words(tokens), this defines how many word repetitions can be found across a text. A value of 1 indicates that each word is unique and found once. A value closer to 0 indicates a higher rate of word repetition.\n",
    "\n",
    "__Average words per tweet__ is pretty self-descriptive."
   ]
  },
  {
   "cell_type": "markdown",
   "metadata": {},
   "source": [
    "### 3.4 Looking up users who have retweeted a status \n",
    "*(from Example 1-11 in Mining the Social Web):*"
   ]
  },
  {
   "cell_type": "code",
   "execution_count": 92,
   "metadata": {},
   "outputs": [
    {
     "name": "stdout",
     "output_type": "stream",
     "text": [
      "Users who've retweeted the tweet:\n",
      "\n",
      "[Response(data=[<User id=289180596 name=mattias username=mblandnc>, <User id=1225532665849405448 name=connor username=Connormccoolman>, <User id=1198130211226898432 name=\"Robert Mueller\" username=DarnMilk>, <User id=2382629469 name=Coy Holt username=coy_holt>, <User id=1184868443679526913 name=HarleyBee 🐝 username=QueenHarleyBee>, <User id=54946944 name=Marko ⭐️⭐️⭐️⭐️⭐️⭐️ username=MARKOPOLO100>, <User id=4061282055 name=Samuel Kutzer username=SHAK_08>, <User id=279634273 name=Sebastian username=saabooboo>, <User id=15712221 name=smirnoff ice enjoyer username=notJacksonfish>, <User id=329920551 name=Martinez username=MartinFaced>, <User id=3883486521 name=Haha Lexis username=cestkisa>, <User id=263972455 name=Ernesto Garza username=elchivo72>, <User id=2263463959 name=elon’s musk 🏳️‍🌈 username=abrewer18>, <User id=57758833 name=Smitty Werbenmanjensen username=ChrEEstosK>, <User id=1516575908 name=c🦃rm🎄c username=McCormacSpices>, <User id=776049844582363137 name=Trent Mahomie username=MahomieTrent>, <User id=909228187 name=chris Mcelfresh username=ChrisMcElfresh1>, <User id=315356135 name=honest caruso fan username=Deonpurpkoolaid>, <User id=3344925987 name=𖤐 Head Honcho 𖤐 username=headhonchoeyad>, <User id=3177249038 name=DELL username=dellwonj>, <User id=451321010 name=John_Titor username=_Philosophried>, <User id=2412605557 name=Moleezy🍩💐❤️ username=MoleezyTweets>, <User id=2612883028 name=Miguel Rodriguez username=miguelfinally>, <User id=912515976 name=Anthony username=apleasant24>, <User id=1543951860 name=Box Carbonie username=westys_wang>, <User id=911899652 name=German Acosta 🐝 username=german10239>, <User id=872856216 name=Smoketsu username=TheDrtyCount420>, <User id=434415503 name=Handsome Bartender username=ZAKM8>, <User id=409378122 name=mr.milton username=FantasticMrAlba>, <User id=751040934566096896 name=no para no para username=beerreunno>, <User id=1281691740 name=alex username=yeahokayalex>, <User id=490685287 name=rick rolled piss boy username=Anthony__Eaton>, <User id=263357010 name=Jordan Lavender username=JordFro>, <User id=50721811 name=Ignacio Alcuri username=ignacioalcuri>, <User id=1048811233321930753 name=Jer\"Z\"Boi username=Marty_McSwag>, <User id=1181408011 name=Mako Mori username=makomori0>, <User id=437507293 name=oliver smith username=oliversmith36>, <User id=804125353878769664 name=Authoritarian Regime Admirer username=serge_gainsbrah>, <User id=2256991345 name=Jake username=henkemcspanky>, <User id=584811469 name=Angelica Hernandez username=SillyNerd14>, <User id=40436554 name=Marc username=DongQuixote>, <User id=787763047 name=Ali Amiri username=expritel>, <User id=3127684577 name=Netan Sansara DSC (not a parody) username=SkroSalah>, <User id=3379085104 name=Dennis username=Dennis_BurnHall>, <User id=1166811230511587328 name=Lagrange 5 username=06rPilot>, <User id=262562037 name=SHANE WATSON username=TheShaneWatson>, <User id=710604361815236608 name=I WILL KILL YOU JARED LETO username=t0nyahard0n>, <User id=1075081591 name=avon username=avonwoodgrain>, <User id=902384485 name=Alex username=ajsplaine>, <User id=928406268217348096 name=. username=colddude123>, <User id=141866886 name=Jim “Butters” Swanson username=konstamadianos>, <User id=1376958812 name=MohZuluFree🐝 username=Mohzulufree>, <User id=711153763 name=balrog username=GrapeEnjoyer>, <User id=1208579779328385024 name=Timothy username=somee_person>, <User id=64822720 name=Kip Dynamite username=kevinThoyt>, <User id=2457934788 name=użytkownik username=dubspl>, <User id=1105764978 name=Chris Wolfe username=chrisdwolfe>, <User id=1003331170010951680 name=jonny snows username=jjjoro_>, <User id=741494134674853888 name=dude, username=lemonist666>, <User id=54817454 name=( •_•) username=iSayDumbShit>, <User id=729125465529552897 name=SoConfuse username=SoConfuse>, <User id=482393835 name=ivan username=ivnxnuno>, <User id=56500975 name=D username=realnamedick>, <User id=706926134953385984 name=GUILLEN⚡️ username=aquillen95>, <User id=2569680346 name=Jaime Daniel username=jayvillawolf>, <User id=2565335717 name=michael m penis username=michaelmpenis>, <User id=511955089 name=B username=djbighugz>, <User id=3045031701 name=Rev. Rictor Von Poofton 🇺🇦 🇵🇸 🇦🇲 username=R_VonPoofton>, <User id=981902629 name=Danny 🌹 username=Invaderfrog1347>, <User id=309305950 name=Michael Southern username=M_Southern_>, <User id=909604438322458626 name=🚬 username=lilsmokebreak>, <User id=382502868 name=Chuck Finley username=DigitalJedi2173>, <User id=1166839757864701954 name=Mark username=markis_maximus>, <User id=904086082546843648 name=Tyler Gibbons username=Gibbowns>, <User id=177324152 name=Joey Albanese username=Joey_Albs>, <User id=61652409 name=Alejandra♡🥀 username=Hello_Allieee>, <User id=116328631 name=lil succubus username=antisuccubus>, <User id=1180180745601597445 name=sir prize username=RudyAzcona>, <User id=457298402 name=1/1 Capital 🅿️ 👨🏻‍🚀 username=_PleasureP>, <User id=515094479 name=Joe username=JabroniMurph>], includes={}, errors=[], meta={'result_count': 80, 'next_token': '7140dibdnow9c7btw452fmh8ost58unnv5eyuor56q2bb'})]\n"
     ]
    }
   ],
   "source": [
    "retweets = client.get_retweeters(id=1224140327688249349) # Get the original tweet id for a tweet from its retweeted_status node and insert it here\n",
    "print(\"Users who've retweeted the tweet:\\n\")\n",
    "print([retweets])"
   ]
  },
  {
   "cell_type": "markdown",
   "metadata": {},
   "source": [
    "### Task 6 (advanced)\n",
    "\n",
    "If you have a Twitter account with a nontrivial number of tweets, request your historical tweet archive from your account settings and analyze it. \\\n",
    "The export of your account data includes files organized by time period in a convenient JSON format. See the README.txt file included in the downloaded archive for more details. \n",
    "\n",
    "\n",
    "\n",
    "What are the most common terms that appear in your tweets? \\\n",
    "Who do you retweet the most often? \\\n",
    "How many of your tweets are retweeted (and why do you think this is the case)?"
   ]
  },
  {
   "cell_type": "markdown",
   "metadata": {},
   "source": [
    "### 3.6 Plotting frequencies of words \n",
    "*(from Example 1-12 in Mining the Social Web)*\n",
    "\n",
    "\n",
    "In the previous exercises we have been looking at the text from the tweets, but when you retrieved the results, you retrieved much more information about the tweets, such as the username of the person who shared this tweet with the world. \n",
    "\n",
    "\n",
    "You can use this information to find out who retweets whom in our examples. "
   ]
  },
  {
   "cell_type": "code",
   "execution_count": 93,
   "metadata": {},
   "outputs": [
    {
     "data": {
      "image/png": "[encoded data removed]",
      "text/plain": [
       "<Figure size 640x480 with 1 Axes>"
      ]
     },
     "metadata": {},
     "output_type": "display_data"
    }
   ],
   "source": [
    "word_counts = sorted(Counter(words).values(), reverse=True)\n",
    "import matplotlib.pyplot as plt\n",
    "plt.loglog(word_counts)\n",
    "plt.ylabel(\"Freq\")\n",
    "plt.xlabel(\"Word Rank\")\n",
    "plt.show()"
   ]
  },
  {
   "cell_type": "markdown",
   "metadata": {},
   "source": [
    "### Generating histograms of words, screen names, and hashtags \n",
    "*(from Example 1-13 in Mining the Social Web):*"
   ]
  },
  {
   "cell_type": "code",
   "execution_count": 94,
   "metadata": {},
   "outputs": [
    {
     "data": {
      "text/plain": [
       "<Figure size 640x480 with 0 Axes>"
      ]
     },
     "execution_count": 94,
     "metadata": {},
     "output_type": "execute_result"
    },
    {
     "data": {
      "image/png": "[encoded data removed]",
      "text/plain": [
       "<Figure size 640x480 with 1 Axes>"
      ]
     },
     "metadata": {},
     "output_type": "display_data"
    },
    {
     "data": {
      "text/plain": [
       "<Figure size 640x480 with 0 Axes>"
      ]
     },
     "metadata": {},
     "output_type": "display_data"
    }
   ],
   "source": [
    "c = Counter(words)\n",
    "plt.hist(c.values())\n",
    "    \n",
    "plt.title(\"\")\n",
    "plt.ylabel(\"Number of items in bin\")\n",
    "plt.xlabel(\"Bins (number of times an item appeared)\")\n",
    "    \n",
    "plt.figure()"
   ]
  },
  {
   "cell_type": "code",
   "execution_count": 95,
   "metadata": {},
   "outputs": [
    {
     "name": "stderr",
     "output_type": "stream",
     "text": [
      "WARNING: You are using pip version 21.3.1; however, version 22.3.1 is available.\n",
      "You should consider upgrading via the 'C:\\IW\\python\\projects\\.virtualevns\\soweb\\Scripts\\python.exe -m pip install --upgrade pip' command.\n",
      "C:\\Users\\Ander\\AppData\\Local\\Temp\\ipykernel_14924\\2177435562.py:5: UserWarning: \n",
      "\n",
      "`distplot` is a deprecated function and will be removed in seaborn v0.14.0.\n",
      "\n",
      "Please adapt your code to use either `displot` (a figure-level function with\n",
      "similar flexibility) or `histplot` (an axes-level function for histograms).\n",
      "\n",
      "For a guide to updating your code to use the new functions, please see\n",
      "https://gist.github.com/mwaskom/de44147ed2974457ad6372750bbe5751\n",
      "\n",
      "  sns.distplot(word_counts, kde=False, rug=True)\n"
     ]
    },
    {
     "name": "stdout",
     "output_type": "stream",
     "text": [
      "Requirement already satisfied: seaborn in c:\\iw\\python\\projects\\.virtualevns\\soweb\\lib\\site-packages (0.12.1)\n",
      "Requirement already satisfied: numpy>=1.17 in c:\\iw\\python\\projects\\.virtualevns\\soweb\\lib\\site-packages (from seaborn) (1.23.4)\n",
      "Requirement already satisfied: pandas>=0.25 in c:\\iw\\python\\projects\\.virtualevns\\soweb\\lib\\site-packages (from seaborn) (1.5.1)\n",
      "Requirement already satisfied: matplotlib!=3.6.1,>=3.1 in c:\\iw\\python\\projects\\.virtualevns\\soweb\\lib\\site-packages (from seaborn) (3.6.2)\n",
      "Requirement already satisfied: fonttools>=4.22.0 in c:\\iw\\python\\projects\\.virtualevns\\soweb\\lib\\site-packages (from matplotlib!=3.6.1,>=3.1->seaborn) (4.38.0)\n",
      "Requirement already satisfied: python-dateutil>=2.7 in c:\\iw\\python\\projects\\.virtualevns\\soweb\\lib\\site-packages (from matplotlib!=3.6.1,>=3.1->seaborn) (2.8.2)\n",
      "Requirement already satisfied: contourpy>=1.0.1 in c:\\iw\\python\\projects\\.virtualevns\\soweb\\lib\\site-packages (from matplotlib!=3.6.1,>=3.1->seaborn) (1.0.6)\n",
      "Requirement already satisfied: packaging>=20.0 in c:\\iw\\python\\projects\\.virtualevns\\soweb\\lib\\site-packages (from matplotlib!=3.6.1,>=3.1->seaborn) (21.3)\n",
      "Requirement already satisfied: cycler>=0.10 in c:\\iw\\python\\projects\\.virtualevns\\soweb\\lib\\site-packages (from matplotlib!=3.6.1,>=3.1->seaborn) (0.11.0)\n",
      "Requirement already satisfied: pyparsing>=2.2.1 in c:\\iw\\python\\projects\\.virtualevns\\soweb\\lib\\site-packages (from matplotlib!=3.6.1,>=3.1->seaborn) (3.0.9)\n",
      "Requirement already satisfied: kiwisolver>=1.0.1 in c:\\iw\\python\\projects\\.virtualevns\\soweb\\lib\\site-packages (from matplotlib!=3.6.1,>=3.1->seaborn) (1.4.4)\n",
      "Requirement already satisfied: pillow>=6.2.0 in c:\\iw\\python\\projects\\.virtualevns\\soweb\\lib\\site-packages (from matplotlib!=3.6.1,>=3.1->seaborn) (9.3.0)\n",
      "Requirement already satisfied: pytz>=2020.1 in c:\\iw\\python\\projects\\.virtualevns\\soweb\\lib\\site-packages (from pandas>=0.25->seaborn) (2022.6)\n",
      "Requirement already satisfied: six>=1.5 in c:\\iw\\python\\projects\\.virtualevns\\soweb\\lib\\site-packages (from python-dateutil>=2.7->matplotlib!=3.6.1,>=3.1->seaborn) (1.16.0)\n"
     ]
    },
    {
     "data": {
      "text/plain": [
       "<AxesSubplot: >"
      ]
     },
     "execution_count": 95,
     "metadata": {},
     "output_type": "execute_result"
    },
    {
     "data": {
      "image/png": "[encoded data removed]",
      "text/plain": [
       "<Figure size 640x480 with 1 Axes>"
      ]
     },
     "metadata": {},
     "output_type": "display_data"
    }
   ],
   "source": [
    "# extra: seaborn plots with a one-liner.\n",
    "!pip install seaborn\n",
    "import seaborn as sns\n",
    "\n",
    "sns.distplot(word_counts, kde=False, rug=True)\n"
   ]
  }
 ],
 "metadata": {
  "kernelspec": {
   "display_name": "Python 3.8.5 ('soweb')",
   "language": "python",
   "name": "python3"
  },
  "language_info": {
   "codemirror_mode": {
    "name": "ipython",
    "version": 3
   },
   "file_extension": ".py",
   "mimetype": "text/x-python",
   "name": "python",
   "nbconvert_exporter": "python",
   "pygments_lexer": "ipython3",
   "version": "3.8.5"
  },
  "vscode": {
   "interpreter": {
    "hash": "c6e2f54a07a7aa306880957be3bace031e4ba51b0e0cea72432f5f55b1968334"
   }
  }
 },
 "nbformat": 4,
 "nbformat_minor": 2
}
