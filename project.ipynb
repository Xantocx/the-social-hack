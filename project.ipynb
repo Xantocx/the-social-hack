{
 "cells": [
  {
   "cell_type": "markdown",
   "metadata": {},
   "source": [
    "Analyzing 1 article on Reddit: https://www.bbc.com/news/science-environment-63431578 "
   ]
  },
  {
   "cell_type": "code",
   "execution_count": 36,
   "metadata": {},
   "outputs": [
    {
     "name": "stdout",
     "output_type": "stream",
     "text": [
      "[['[Top Stories] - Quick guide to Russia-Ukraine military tensions | BBC', 1, 1.0, 0, False], ['[Top Stories] - Quick guide to Russia-Ukraine military tensions', 1, 1.0, 0, False]]\n"
     ]
    }
   ],
   "source": [
    "import praw\n",
    "import time\n",
    "import csv\n",
    "\n",
    "import sys\n",
    "sys.path.append(\"./news-tracker\")\n",
    "\n",
    "from reddit import *\n",
    "\n",
    "#Delete keys before handing in the notebook\n",
    "r = praw.Reddit(user_agent='eguiwan_kenobi', client_id='udaTQA7LQKtu5VH68BUmng',\n",
    "                      client_secret='dh-qgDHjSXziTfTgvEadkP-MOk9AAQ',\n",
    "                      redirect_url='https://www.reddit.com/prefs/apps/'\n",
    "                                   'authorize_callback')\n",
    "\n",
    "obj = r.info(url=\"https://www.bbc.co.uk/news/world-europe-56720589\")\n",
    "\n",
    "titles = []\n",
    "scores = []\n",
    "upvote_ratios = []\n",
    "nums_comments = []\n",
    "original_contents = []\n",
    "rows = []\n",
    "for sub in obj:\n",
    "    rows.append([sub.title, sub.score, sub.upvote_ratio, sub.num_comments, sub.is_original_content])\n",
    "\n",
    "print(rows)\n",
    "fields = [\"Title\", \"Score\", \"Upvote_Ratio\", \"Num_comments\", \"Is_original_content?\"]\n",
    "\n",
    "with open('submissions.csv', 'w', newline='') as file:\n",
    "    writer = csv.writer(file)\n",
    "    writer.writerow(fields)\n",
    "    writer.writerows(rows)\n",
    "\n"
   ]
  }
 ],
 "metadata": {
  "kernelspec": {
   "display_name": "Python 3.8.5 ('soweb')",
   "language": "python",
   "name": "python3"
  },
  "language_info": {
   "codemirror_mode": {
    "name": "ipython",
    "version": 3
   },
   "file_extension": ".py",
   "mimetype": "text/x-python",
   "name": "python",
   "nbconvert_exporter": "python",
   "pygments_lexer": "ipython3",
   "version": "3.8.5"
  },
  "orig_nbformat": 4,
  "vscode": {
   "interpreter": {
    "hash": "c6e2f54a07a7aa306880957be3bace031e4ba51b0e0cea72432f5f55b1968334"
   }
  }
 },
 "nbformat": 4,
 "nbformat_minor": 2
}
